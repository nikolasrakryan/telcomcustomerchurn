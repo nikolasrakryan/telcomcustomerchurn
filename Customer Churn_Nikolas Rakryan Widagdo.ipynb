{
  "nbformat": 4,
  "nbformat_minor": 0,
  "metadata": {
    "colab": {
      "name": "Customer_churn.ipynb",
      "provenance": [],
      "collapsed_sections": [],
      "toc_visible": true
    },
    "kernelspec": {
      "display_name": "Python 3",
      "language": "python",
      "name": "python3"
    },
    "language_info": {
      "codemirror_mode": {
        "name": "ipython",
        "version": 3
      },
      "file_extension": ".py",
      "mimetype": "text/x-python",
      "name": "python",
      "nbconvert_exporter": "python",
      "pygments_lexer": "ipython3",
      "version": "3.7.7"
    }
  },
  "cells": [
    {
      "cell_type": "markdown",
      "metadata": {
        "id": "N2W81uVMZyDV"
      },
      "source": [
        "Customer churn/customer retention/customer turnover/customer defection merupakan kejadian dimana perusahaan kehilangan klien atau konsumen. Banyak perusahaan menggunakan customer churn sebagai key business metrics karena menambah customer baru diperlukan biaya lebih banyak dibandingkan mempertahankan customer lama. Perusahaan yang menggunakan indikator ini yakni Perusahaan Telecom. Perusahaan Telecom ingin mengetahui kebiasaan perilaku customer churn (customer yang pergi dalam sebulan terakhir) berdasarkan berbagai aspek. Tujuan dari project ini adalah memprediksi customer churn untuk mempertahankan customer Perusahaan Telecom. Dataset ini memberikan analisis untuk memahami karakteristik yang menyebabkan customer churn, pengembangan model untuk memprediksi apakah customer kemungkinan besar akan meninggalkan bisnis, dan evaluasi beberapa strategi untuk mencegah customer churn."
      ]
    },
    {
      "cell_type": "markdown",
      "metadata": {
        "id": "pAvbuNHEuFQd"
      },
      "source": [
        "## Import Library"
      ]
    },
    {
      "cell_type": "code",
      "metadata": {
        "id": "MLGG4J-RuFQh"
      },
      "source": [
        "#import library\n",
        "import numpy as np #linear algebra\n",
        "import pandas as pd #data processing\n",
        "import seaborn as sns"
      ],
      "execution_count": 1,
      "outputs": []
    },
    {
      "cell_type": "markdown",
      "metadata": {
        "id": "rEeuVh8AuFQz"
      },
      "source": [
        "## Load Datasets"
      ]
    },
    {
      "cell_type": "code",
      "metadata": {
        "id": "fORF7oPnZI6F"
      },
      "source": [
        "#Load Data From Local File\n",
        "\n",
        "#from google.colab import files\n",
        "#files.upload()"
      ],
      "execution_count": 2,
      "outputs": []
    },
    {
      "cell_type": "code",
      "metadata": {
        "id": "9QBoTBKzSMIW"
      },
      "source": [
        "#data=pd.read_csv(\"telco.csv\",sep=\";\")\n",
        "data=pd.read_csv(\"https://challenge2.s3.jp-tok.cloud-object-storage.appdomain.cloud/telco.csv\",sep=\";\")"
      ],
      "execution_count": 3,
      "outputs": []
    },
    {
      "cell_type": "markdown",
      "metadata": {
        "id": "s0zKntabuFQ9"
      },
      "source": [
        "## Data Understanding"
      ]
    },
    {
      "cell_type": "code",
      "metadata": {
        "id": "lOyXx49XuFQ-",
        "outputId": "cd6dff61-a37b-4931-d6a3-784054b98da4",
        "colab": {
          "base_uri": "https://localhost:8080/",
          "height": 309
        }
      },
      "source": [
        "#See the first 5 data\n",
        "data.head()"
      ],
      "execution_count": 4,
      "outputs": [
        {
          "output_type": "execute_result",
          "data": {
            "text/html": [
              "<div>\n",
              "<style scoped>\n",
              "    .dataframe tbody tr th:only-of-type {\n",
              "        vertical-align: middle;\n",
              "    }\n",
              "\n",
              "    .dataframe tbody tr th {\n",
              "        vertical-align: top;\n",
              "    }\n",
              "\n",
              "    .dataframe thead th {\n",
              "        text-align: right;\n",
              "    }\n",
              "</style>\n",
              "<table border=\"1\" class=\"dataframe\">\n",
              "  <thead>\n",
              "    <tr style=\"text-align: right;\">\n",
              "      <th></th>\n",
              "      <th>customerid</th>\n",
              "      <th>region</th>\n",
              "      <th>gender</th>\n",
              "      <th>seniorcitizen</th>\n",
              "      <th>partner</th>\n",
              "      <th>dependents</th>\n",
              "      <th>tenure</th>\n",
              "      <th>phoneservice</th>\n",
              "      <th>multiplelines</th>\n",
              "      <th>internetservice</th>\n",
              "      <th>onlinesecurity</th>\n",
              "      <th>onlinebackup</th>\n",
              "      <th>deviceprotection</th>\n",
              "      <th>techsupport</th>\n",
              "      <th>streamingtv</th>\n",
              "      <th>streamingmovies</th>\n",
              "      <th>paperlessbilling</th>\n",
              "      <th>paymentmethod</th>\n",
              "      <th>monthlycharges</th>\n",
              "      <th>totalcharges</th>\n",
              "      <th>churn</th>\n",
              "    </tr>\n",
              "  </thead>\n",
              "  <tbody>\n",
              "    <tr>\n",
              "      <th>0</th>\n",
              "      <td>2424-WVHPL</td>\n",
              "      <td>France</td>\n",
              "      <td>Male</td>\n",
              "      <td>1</td>\n",
              "      <td>No</td>\n",
              "      <td>No</td>\n",
              "      <td>1</td>\n",
              "      <td>Yes</td>\n",
              "      <td>No</td>\n",
              "      <td>Fiber optic</td>\n",
              "      <td>No</td>\n",
              "      <td>No</td>\n",
              "      <td>No</td>\n",
              "      <td>Yes</td>\n",
              "      <td>No</td>\n",
              "      <td>No</td>\n",
              "      <td>No</td>\n",
              "      <td>Electronic check</td>\n",
              "      <td>12.00</td>\n",
              "      <td>12</td>\n",
              "      <td>No</td>\n",
              "    </tr>\n",
              "    <tr>\n",
              "      <th>1</th>\n",
              "      <td>3679-XASPY</td>\n",
              "      <td>France</td>\n",
              "      <td>Female</td>\n",
              "      <td>0</td>\n",
              "      <td>Yes</td>\n",
              "      <td>Yes</td>\n",
              "      <td>1</td>\n",
              "      <td>Yes</td>\n",
              "      <td>No</td>\n",
              "      <td>No</td>\n",
              "      <td>No internet service</td>\n",
              "      <td>No internet service</td>\n",
              "      <td>No internet service</td>\n",
              "      <td>No internet service</td>\n",
              "      <td>No internet service</td>\n",
              "      <td>No internet service</td>\n",
              "      <td>No</td>\n",
              "      <td>Electronic check</td>\n",
              "      <td>13.00</td>\n",
              "      <td>13</td>\n",
              "      <td>No</td>\n",
              "    </tr>\n",
              "    <tr>\n",
              "      <th>2</th>\n",
              "      <td>2967-MXRAV</td>\n",
              "      <td>Germany</td>\n",
              "      <td>Male</td>\n",
              "      <td>0</td>\n",
              "      <td>Yes</td>\n",
              "      <td>Yes</td>\n",
              "      <td>1</td>\n",
              "      <td>Yes</td>\n",
              "      <td>No</td>\n",
              "      <td>No</td>\n",
              "      <td>No internet service</td>\n",
              "      <td>No internet service</td>\n",
              "      <td>No internet service</td>\n",
              "      <td>No internet service</td>\n",
              "      <td>No internet service</td>\n",
              "      <td>No internet service</td>\n",
              "      <td>No</td>\n",
              "      <td>Mailed check</td>\n",
              "      <td>18.80</td>\n",
              "      <td>18.8</td>\n",
              "      <td>No</td>\n",
              "    </tr>\n",
              "    <tr>\n",
              "      <th>3</th>\n",
              "      <td>8992-CEUEN</td>\n",
              "      <td>Germany</td>\n",
              "      <td>Female</td>\n",
              "      <td>0</td>\n",
              "      <td>No</td>\n",
              "      <td>No</td>\n",
              "      <td>1</td>\n",
              "      <td>Yes</td>\n",
              "      <td>No</td>\n",
              "      <td>No</td>\n",
              "      <td>No internet service</td>\n",
              "      <td>No internet service</td>\n",
              "      <td>No internet service</td>\n",
              "      <td>No internet service</td>\n",
              "      <td>No internet service</td>\n",
              "      <td>No internet service</td>\n",
              "      <td>No</td>\n",
              "      <td>Electronic check</td>\n",
              "      <td>18.85</td>\n",
              "      <td>18.85</td>\n",
              "      <td>No</td>\n",
              "    </tr>\n",
              "    <tr>\n",
              "      <th>4</th>\n",
              "      <td>9318-NKNFC</td>\n",
              "      <td>Germany</td>\n",
              "      <td>Male</td>\n",
              "      <td>0</td>\n",
              "      <td>No</td>\n",
              "      <td>No</td>\n",
              "      <td>1</td>\n",
              "      <td>Yes</td>\n",
              "      <td>No</td>\n",
              "      <td>No</td>\n",
              "      <td>No internet service</td>\n",
              "      <td>No internet service</td>\n",
              "      <td>No internet service</td>\n",
              "      <td>No internet service</td>\n",
              "      <td>No internet service</td>\n",
              "      <td>No internet service</td>\n",
              "      <td>Yes</td>\n",
              "      <td>Mailed check</td>\n",
              "      <td>18.85</td>\n",
              "      <td>18.85</td>\n",
              "      <td>Yes</td>\n",
              "    </tr>\n",
              "  </tbody>\n",
              "</table>\n",
              "</div>"
            ],
            "text/plain": [
              "   customerid   region  gender  ...  monthlycharges totalcharges churn\n",
              "0  2424-WVHPL   France    Male  ...           12.00           12    No\n",
              "1  3679-XASPY   France  Female  ...           13.00           13    No\n",
              "2  2967-MXRAV  Germany    Male  ...           18.80         18.8    No\n",
              "3  8992-CEUEN  Germany  Female  ...           18.85        18.85    No\n",
              "4  9318-NKNFC  Germany    Male  ...           18.85        18.85   Yes\n",
              "\n",
              "[5 rows x 21 columns]"
            ]
          },
          "metadata": {
            "tags": []
          },
          "execution_count": 4
        }
      ]
    },
    {
      "cell_type": "code",
      "metadata": {
        "id": "vZhNjh1EuFT4",
        "outputId": "92d34305-24cb-4f34-f615-5f0dbb616202",
        "colab": {
          "base_uri": "https://localhost:8080/",
          "height": 34
        }
      },
      "source": [
        "#See the number of rows and number of columns of data\n",
        "data.shape"
      ],
      "execution_count": 5,
      "outputs": [
        {
          "output_type": "execute_result",
          "data": {
            "text/plain": [
              "(7043, 21)"
            ]
          },
          "metadata": {
            "tags": []
          },
          "execution_count": 5
        }
      ]
    },
    {
      "cell_type": "code",
      "metadata": {
        "id": "JhnaNLgeuFUY",
        "outputId": "ee800578-f8ff-47b2-c220-8a1e6bea25c3",
        "colab": {
          "base_uri": "https://localhost:8080/",
          "height": 493
        }
      },
      "source": [
        "#Understanding each variable\n",
        "data.info()"
      ],
      "execution_count": 6,
      "outputs": [
        {
          "output_type": "stream",
          "text": [
            "<class 'pandas.core.frame.DataFrame'>\n",
            "RangeIndex: 7043 entries, 0 to 7042\n",
            "Data columns (total 21 columns):\n",
            " #   Column            Non-Null Count  Dtype  \n",
            "---  ------            --------------  -----  \n",
            " 0   customerid        7043 non-null   object \n",
            " 1   region            7043 non-null   object \n",
            " 2   gender            7043 non-null   object \n",
            " 3   seniorcitizen     7043 non-null   int64  \n",
            " 4   partner           7043 non-null   object \n",
            " 5   dependents        7043 non-null   object \n",
            " 6   tenure            7043 non-null   int64  \n",
            " 7   phoneservice      7043 non-null   object \n",
            " 8   multiplelines     7043 non-null   object \n",
            " 9   internetservice   7043 non-null   object \n",
            " 10  onlinesecurity    7043 non-null   object \n",
            " 11  onlinebackup      7043 non-null   object \n",
            " 12  deviceprotection  7043 non-null   object \n",
            " 13  techsupport       7043 non-null   object \n",
            " 14  streamingtv       7043 non-null   object \n",
            " 15  streamingmovies   7043 non-null   object \n",
            " 16  paperlessbilling  7043 non-null   object \n",
            " 17  paymentmethod     7043 non-null   object \n",
            " 18  monthlycharges    7043 non-null   float64\n",
            " 19  totalcharges      7043 non-null   object \n",
            " 20  churn             7043 non-null   object \n",
            "dtypes: float64(1), int64(2), object(18)\n",
            "memory usage: 1.1+ MB\n"
          ],
          "name": "stdout"
        }
      ]
    },
    {
      "cell_type": "code",
      "metadata": {
        "id": "-SBYR0iKuFUm",
        "outputId": "90fb8f73-a080-453b-cd76-218f22ba8205",
        "colab": {
          "base_uri": "https://localhost:8080/",
          "height": 297
        }
      },
      "source": [
        "#See a statistical summary of variables with numeric types\n",
        "data.describe()"
      ],
      "execution_count": 7,
      "outputs": [
        {
          "output_type": "execute_result",
          "data": {
            "text/html": [
              "<div>\n",
              "<style scoped>\n",
              "    .dataframe tbody tr th:only-of-type {\n",
              "        vertical-align: middle;\n",
              "    }\n",
              "\n",
              "    .dataframe tbody tr th {\n",
              "        vertical-align: top;\n",
              "    }\n",
              "\n",
              "    .dataframe thead th {\n",
              "        text-align: right;\n",
              "    }\n",
              "</style>\n",
              "<table border=\"1\" class=\"dataframe\">\n",
              "  <thead>\n",
              "    <tr style=\"text-align: right;\">\n",
              "      <th></th>\n",
              "      <th>seniorcitizen</th>\n",
              "      <th>tenure</th>\n",
              "      <th>monthlycharges</th>\n",
              "    </tr>\n",
              "  </thead>\n",
              "  <tbody>\n",
              "    <tr>\n",
              "      <th>count</th>\n",
              "      <td>7043.000000</td>\n",
              "      <td>7043.000000</td>\n",
              "      <td>7043.000000</td>\n",
              "    </tr>\n",
              "    <tr>\n",
              "      <th>mean</th>\n",
              "      <td>0.162147</td>\n",
              "      <td>32.401107</td>\n",
              "      <td>64.751874</td>\n",
              "    </tr>\n",
              "    <tr>\n",
              "      <th>std</th>\n",
              "      <td>0.368612</td>\n",
              "      <td>24.606849</td>\n",
              "      <td>30.097858</td>\n",
              "    </tr>\n",
              "    <tr>\n",
              "      <th>min</th>\n",
              "      <td>0.000000</td>\n",
              "      <td>1.000000</td>\n",
              "      <td>12.000000</td>\n",
              "    </tr>\n",
              "    <tr>\n",
              "      <th>25%</th>\n",
              "      <td>0.000000</td>\n",
              "      <td>9.000000</td>\n",
              "      <td>35.500000</td>\n",
              "    </tr>\n",
              "    <tr>\n",
              "      <th>50%</th>\n",
              "      <td>0.000000</td>\n",
              "      <td>29.000000</td>\n",
              "      <td>70.350000</td>\n",
              "    </tr>\n",
              "    <tr>\n",
              "      <th>75%</th>\n",
              "      <td>0.000000</td>\n",
              "      <td>55.000000</td>\n",
              "      <td>89.850000</td>\n",
              "    </tr>\n",
              "    <tr>\n",
              "      <th>max</th>\n",
              "      <td>1.000000</td>\n",
              "      <td>120.000000</td>\n",
              "      <td>118.750000</td>\n",
              "    </tr>\n",
              "  </tbody>\n",
              "</table>\n",
              "</div>"
            ],
            "text/plain": [
              "       seniorcitizen       tenure  monthlycharges\n",
              "count    7043.000000  7043.000000     7043.000000\n",
              "mean        0.162147    32.401107       64.751874\n",
              "std         0.368612    24.606849       30.097858\n",
              "min         0.000000     1.000000       12.000000\n",
              "25%         0.000000     9.000000       35.500000\n",
              "50%         0.000000    29.000000       70.350000\n",
              "75%         0.000000    55.000000       89.850000\n",
              "max         1.000000   120.000000      118.750000"
            ]
          },
          "metadata": {
            "tags": []
          },
          "execution_count": 7
        }
      ]
    },
    {
      "cell_type": "markdown",
      "metadata": {
        "id": "BcPIWDL_amhm"
      },
      "source": [
        "The dataset includes information about:\n",
        "+ Customers who churned — the column is called Churn\n",
        "+ Services that each customer has signed up for — phone, multiple lines, internet, online security, online backup, device protection, tech support, and streaming TV and movies\n",
        "+ Customer account information — how long they’ve been a customer, the type of contract (month-to-month, one-year, two-years), payment method, paperless billing, monthly charges, and total charges\n",
        "+ Demographic info about customers — gender, age, and if they have partners and dependents"
      ]
    },
    {
      "cell_type": "markdown",
      "metadata": {
        "id": "6J7QMUsCuFUt"
      },
      "source": [
        "## Data Cleaning and Preprocessing"
      ]
    },
    {
      "cell_type": "markdown",
      "metadata": {
        "id": "Q_I5vqQXuFU0"
      },
      "source": [
        "### Check Duplicate Data"
      ]
    },
    {
      "cell_type": "code",
      "metadata": {
        "id": "FLBAkX2fuFU1"
      },
      "source": [
        "#Drop duplicate value\n",
        "data.drop_duplicates(inplace=True)"
      ],
      "execution_count": 8,
      "outputs": []
    },
    {
      "cell_type": "code",
      "metadata": {
        "id": "ZXF8mNnUuFVM",
        "outputId": "9591e7a1-65b6-4d84-f0a4-1c432653e532",
        "colab": {
          "base_uri": "https://localhost:8080/",
          "height": 34
        }
      },
      "source": [
        "#See changes in the number of rows and columns after the duplicate value is deleted\n",
        "data.shape"
      ],
      "execution_count": 9,
      "outputs": [
        {
          "output_type": "execute_result",
          "data": {
            "text/plain": [
              "(7043, 21)"
            ]
          },
          "metadata": {
            "tags": []
          },
          "execution_count": 9
        }
      ]
    },
    {
      "cell_type": "markdown",
      "metadata": {
        "id": "R8mx3BqkuFVW"
      },
      "source": [
        "### Check Data Types"
      ]
    },
    {
      "cell_type": "code",
      "metadata": {
        "id": "dueNiZa1uFVZ",
        "outputId": "3958a4e2-56da-4b58-fc8c-043a1391192e",
        "colab": {
          "base_uri": "https://localhost:8080/",
          "height": 391
        }
      },
      "source": [
        "#Check Data Type\n",
        "data.dtypes"
      ],
      "execution_count": 10,
      "outputs": [
        {
          "output_type": "execute_result",
          "data": {
            "text/plain": [
              "customerid           object\n",
              "region               object\n",
              "gender               object\n",
              "seniorcitizen         int64\n",
              "partner              object\n",
              "dependents           object\n",
              "tenure                int64\n",
              "phoneservice         object\n",
              "multiplelines        object\n",
              "internetservice      object\n",
              "onlinesecurity       object\n",
              "onlinebackup         object\n",
              "deviceprotection     object\n",
              "techsupport          object\n",
              "streamingtv          object\n",
              "streamingmovies      object\n",
              "paperlessbilling     object\n",
              "paymentmethod        object\n",
              "monthlycharges      float64\n",
              "totalcharges         object\n",
              "churn                object\n",
              "dtype: object"
            ]
          },
          "metadata": {
            "tags": []
          },
          "execution_count": 10
        }
      ]
    },
    {
      "cell_type": "code",
      "metadata": {
        "id": "41pLGvM9TJi6",
        "outputId": "f2bce043-0f89-401d-bda4-ba48f0fcf619",
        "colab": {
          "base_uri": "https://localhost:8080/",
          "height": 493
        }
      },
      "source": [
        "data.info()"
      ],
      "execution_count": 11,
      "outputs": [
        {
          "output_type": "stream",
          "text": [
            "<class 'pandas.core.frame.DataFrame'>\n",
            "Int64Index: 7043 entries, 0 to 7042\n",
            "Data columns (total 21 columns):\n",
            " #   Column            Non-Null Count  Dtype  \n",
            "---  ------            --------------  -----  \n",
            " 0   customerid        7043 non-null   object \n",
            " 1   region            7043 non-null   object \n",
            " 2   gender            7043 non-null   object \n",
            " 3   seniorcitizen     7043 non-null   int64  \n",
            " 4   partner           7043 non-null   object \n",
            " 5   dependents        7043 non-null   object \n",
            " 6   tenure            7043 non-null   int64  \n",
            " 7   phoneservice      7043 non-null   object \n",
            " 8   multiplelines     7043 non-null   object \n",
            " 9   internetservice   7043 non-null   object \n",
            " 10  onlinesecurity    7043 non-null   object \n",
            " 11  onlinebackup      7043 non-null   object \n",
            " 12  deviceprotection  7043 non-null   object \n",
            " 13  techsupport       7043 non-null   object \n",
            " 14  streamingtv       7043 non-null   object \n",
            " 15  streamingmovies   7043 non-null   object \n",
            " 16  paperlessbilling  7043 non-null   object \n",
            " 17  paymentmethod     7043 non-null   object \n",
            " 18  monthlycharges    7043 non-null   float64\n",
            " 19  totalcharges      7043 non-null   object \n",
            " 20  churn             7043 non-null   object \n",
            "dtypes: float64(1), int64(2), object(18)\n",
            "memory usage: 1.2+ MB\n"
          ],
          "name": "stdout"
        }
      ]
    },
    {
      "cell_type": "code",
      "metadata": {
        "id": "-8YL76LAuWca"
      },
      "source": [
        "#merubah nilai kosong dengan isi spasi menjadi NA\n",
        "data[\"totalcharges\"]=data[\"totalcharges\"].replace(\" \",np.nan)"
      ],
      "execution_count": 12,
      "outputs": []
    },
    {
      "cell_type": "code",
      "metadata": {
        "id": "EfBMIgwWuXsa"
      },
      "source": [
        "#merubah tipe data\n",
        "data[\"totalcharges\"]=data[\"totalcharges\"].astype(\"float64\")"
      ],
      "execution_count": 13,
      "outputs": []
    },
    {
      "cell_type": "code",
      "metadata": {
        "id": "RdzR1zjyuZx4",
        "outputId": "871d24a1-dde5-4529-9669-c6887b173563",
        "colab": {
          "base_uri": "https://localhost:8080/",
          "height": 391
        }
      },
      "source": [
        "data.dtypes"
      ],
      "execution_count": 14,
      "outputs": [
        {
          "output_type": "execute_result",
          "data": {
            "text/plain": [
              "customerid           object\n",
              "region               object\n",
              "gender               object\n",
              "seniorcitizen         int64\n",
              "partner              object\n",
              "dependents           object\n",
              "tenure                int64\n",
              "phoneservice         object\n",
              "multiplelines        object\n",
              "internetservice      object\n",
              "onlinesecurity       object\n",
              "onlinebackup         object\n",
              "deviceprotection     object\n",
              "techsupport          object\n",
              "streamingtv          object\n",
              "streamingmovies      object\n",
              "paperlessbilling     object\n",
              "paymentmethod        object\n",
              "monthlycharges      float64\n",
              "totalcharges        float64\n",
              "churn                object\n",
              "dtype: object"
            ]
          },
          "metadata": {
            "tags": []
          },
          "execution_count": 14
        }
      ]
    },
    {
      "cell_type": "markdown",
      "metadata": {
        "id": "T-83zvsZuFWN"
      },
      "source": [
        "### Check Missing Value"
      ]
    },
    {
      "cell_type": "code",
      "metadata": {
        "id": "ATcLu2WwuFWP",
        "outputId": "37f38ee2-569b-4bb2-98b2-5503e0643bec",
        "colab": {
          "base_uri": "https://localhost:8080/",
          "height": 391
        }
      },
      "source": [
        "#Check the missing value\n",
        "data.isnull().sum()"
      ],
      "execution_count": 15,
      "outputs": [
        {
          "output_type": "execute_result",
          "data": {
            "text/plain": [
              "customerid           0\n",
              "region               0\n",
              "gender               0\n",
              "seniorcitizen        0\n",
              "partner              0\n",
              "dependents           0\n",
              "tenure               0\n",
              "phoneservice         0\n",
              "multiplelines        0\n",
              "internetservice      0\n",
              "onlinesecurity       0\n",
              "onlinebackup         0\n",
              "deviceprotection     0\n",
              "techsupport          0\n",
              "streamingtv          0\n",
              "streamingmovies      0\n",
              "paperlessbilling     0\n",
              "paymentmethod        0\n",
              "monthlycharges       0\n",
              "totalcharges        11\n",
              "churn                0\n",
              "dtype: int64"
            ]
          },
          "metadata": {
            "tags": []
          },
          "execution_count": 15
        }
      ]
    },
    {
      "cell_type": "markdown",
      "metadata": {
        "id": "4DheYhbIuFWW"
      },
      "source": [
        "### Impute Missing value"
      ]
    },
    {
      "cell_type": "code",
      "metadata": {
        "id": "qRkGeBe6uFWY",
        "outputId": "c0cec8f0-6ccc-4566-f80a-be77e7b6ceea",
        "colab": {
          "base_uri": "https://localhost:8080/",
          "height": 350
        }
      },
      "source": [
        "#Look at the distribution of the totalcharges variable with histogram and density plot\n",
        "sns.distplot(data[\"totalcharges\"])"
      ],
      "execution_count": 16,
      "outputs": [
        {
          "output_type": "stream",
          "text": [
            "/usr/local/lib/python3.6/dist-packages/seaborn/distributions.py:2551: FutureWarning: `distplot` is a deprecated function and will be removed in a future version. Please adapt your code to use either `displot` (a figure-level function with similar flexibility) or `histplot` (an axes-level function for histograms).\n",
            "  warnings.warn(msg, FutureWarning)\n"
          ],
          "name": "stderr"
        },
        {
          "output_type": "execute_result",
          "data": {
            "text/plain": [
              "<matplotlib.axes._subplots.AxesSubplot at 0x7f8ca1193cc0>"
            ]
          },
          "metadata": {
            "tags": []
          },
          "execution_count": 16
        },
        {
          "output_type": "display_data",
          "data": {
            "image/png": "[encoded data removed]",
            "text/plain": [
              "<Figure size 432x288 with 1 Axes>"
            ]
          },
          "metadata": {
            "tags": [],
            "needs_background": "light"
          }
        }
      ]
    },
    {
      "cell_type": "code",
      "metadata": {
        "id": "9xCbuAwzuFWf",
        "outputId": "c75ccdf1-4d63-4c68-89ae-9117a93f920e",
        "colab": {
          "base_uri": "https://localhost:8080/",
          "height": 350
        }
      },
      "source": [
        "#Look at the distribution of the totalcharges variable with boxplot\n",
        "sns.boxplot(data[\"totalcharges\"])"
      ],
      "execution_count": 17,
      "outputs": [
        {
          "output_type": "stream",
          "text": [
            "/usr/local/lib/python3.6/dist-packages/seaborn/_decorators.py:43: FutureWarning: Pass the following variable as a keyword arg: x. From version 0.12, the only valid positional argument will be `data`, and passing other arguments without an explicit keyword will result in an error or misinterpretation.\n",
            "  FutureWarning\n"
          ],
          "name": "stderr"
        },
        {
          "output_type": "execute_result",
          "data": {
            "text/plain": [
              "<matplotlib.axes._subplots.AxesSubplot at 0x7f8c9fd97a58>"
            ]
          },
          "metadata": {
            "tags": []
          },
          "execution_count": 17
        },
        {
          "output_type": "display_data",
          "data": {
            "image/png": "[encoded data removed]",
            "text/plain": [
              "<Figure size 432x288 with 1 Axes>"
            ]
          },
          "metadata": {
            "tags": [],
            "needs_background": "light"
          }
        }
      ]
    },
    {
      "cell_type": "code",
      "metadata": {
        "id": "OambUgR5uFWs"
      },
      "source": [
        "#Because the totalcharges variable has positive skewed, therefore the missing value is imputed with the median\n",
        "fill=data[\"totalcharges\"].median()\n",
        "data[\"totalcharges\"]=data[\"totalcharges\"].fillna(fill)"
      ],
      "execution_count": 18,
      "outputs": []
    },
    {
      "cell_type": "code",
      "metadata": {
        "id": "n4M5sZmZuFW0",
        "outputId": "8a881540-a8d7-4242-fcb9-0a35e931dab2",
        "colab": {
          "base_uri": "https://localhost:8080/",
          "height": 391
        }
      },
      "source": [
        "#Check missing value after imputation\n",
        "data.isnull().sum()"
      ],
      "execution_count": 19,
      "outputs": [
        {
          "output_type": "execute_result",
          "data": {
            "text/plain": [
              "customerid          0\n",
              "region              0\n",
              "gender              0\n",
              "seniorcitizen       0\n",
              "partner             0\n",
              "dependents          0\n",
              "tenure              0\n",
              "phoneservice        0\n",
              "multiplelines       0\n",
              "internetservice     0\n",
              "onlinesecurity      0\n",
              "onlinebackup        0\n",
              "deviceprotection    0\n",
              "techsupport         0\n",
              "streamingtv         0\n",
              "streamingmovies     0\n",
              "paperlessbilling    0\n",
              "paymentmethod       0\n",
              "monthlycharges      0\n",
              "totalcharges        0\n",
              "churn               0\n",
              "dtype: int64"
            ]
          },
          "metadata": {
            "tags": []
          },
          "execution_count": 19
        }
      ]
    },
    {
      "cell_type": "code",
      "metadata": {
        "id": "kNdEA6_Dpy2j",
        "outputId": "30ea4944-8e15-4d30-e3e9-6f828bed06dd",
        "colab": {
          "base_uri": "https://localhost:8080/",
          "height": 295
        }
      },
      "source": [
        "import matplotlib.pyplot as plt\n",
        "import matplotlib.ticker as mtick # For specifying the axes tick format \n",
        "colors = ['magenta','blue']\n",
        "ax = (data['gender'].value_counts()*100.0 /len(data)).plot(kind='bar', stacked = True, rot = 0, color = colors)\n",
        "ax.yaxis.set_major_formatter(mtick.PercentFormatter())\n",
        "ax.set_ylabel('% Customers')\n",
        "ax.set_xlabel('Gender')\n",
        "ax.set_ylabel('% Customers')\n",
        "ax.set_title('Perbandingan Gender Customer')\n",
        "\n",
        "# create a list to collect the plt.patches data\n",
        "totals = []\n",
        "\n",
        "# find the values and append to list\n",
        "for i in ax.patches:\n",
        "    totals.append(i.get_width())\n",
        "\n",
        "# set individual bar lables using above list\n",
        "total = sum(totals)\n",
        "\n",
        "for i in ax.patches:\n",
        "    # get_width pulls left or right; get_y pushes up or down\n",
        "    ax.text(i.get_x()+.15, i.get_height()-3.5, \\\n",
        "            str(round((i.get_height()/total), 1))+'%', \n",
        "            fontsize=12, \n",
        "            color='white', \n",
        "            weight = 'bold')"
      ],
      "execution_count": 20,
      "outputs": [
        {
          "output_type": "display_data",
          "data": {
            "image/png": "[encoded data removed]",
            "text/plain": [
              "<Figure size 432x288 with 1 Axes>"
            ]
          },
          "metadata": {
            "tags": [],
            "needs_background": "light"
          }
        }
      ]
    },
    {
      "cell_type": "code",
      "metadata": {
        "id": "MkB1bIQ4e0lG",
        "outputId": "5e0a4e53-348e-4dc0-ecac-c0e194b9275f",
        "colab": {
          "base_uri": "https://localhost:8080/",
          "height": 336
        }
      },
      "source": [
        "ax = (data['churn'].value_counts()*100.0 /len(data))\\\n",
        ".plot.pie(autopct='%.1f%%', labels = ['No', 'Yes'],figsize =(5,5), fontsize = 12 )                                                                           \n",
        "ax.yaxis.set_major_formatter(mtick.PercentFormatter())\n",
        "ax.set_ylabel('Churn',fontsize = 12)\n",
        "ax.set_title('% of Customer Churn', fontsize = 12)"
      ],
      "execution_count": 21,
      "outputs": [
        {
          "output_type": "execute_result",
          "data": {
            "text/plain": [
              "Text(0.5, 1.0, '% of Customer Churn')"
            ]
          },
          "metadata": {
            "tags": []
          },
          "execution_count": 21
        },
        {
          "output_type": "display_data",
          "data": {
            "image/png": "[encoded data removed]",
            "text/plain": [
              "<Figure size 360x360 with 1 Axes>"
            ]
          },
          "metadata": {
            "tags": []
          }
        }
      ]
    },
    {
      "cell_type": "code",
      "metadata": {
        "id": "bb8OFMCynLqM",
        "outputId": "fc57f96e-ba75-453d-f23f-ba2f9cb81ea1",
        "colab": {
          "base_uri": "https://localhost:8080/",
          "height": 716
        }
      },
      "source": [
        "services = ['phoneservice','multiplelines','internetservice','onlinesecurity',\n",
        "           'onlinebackup','deviceprotection','techsupport','streamingtv','streamingmovies']\n",
        "\n",
        "fig, axes = plt.subplots(nrows = 3,ncols = 3,figsize = (15,12))\n",
        "for i, item in enumerate(services):\n",
        "    if i < 3:\n",
        "        ax = data[item].value_counts().plot(kind = 'bar',ax=axes[i,0],rot = 0)\n",
        "        \n",
        "    elif i >=3 and i < 6:\n",
        "        ax = data[item].value_counts().plot(kind = 'bar',ax=axes[i-3,1],rot = 0)\n",
        "        \n",
        "    elif i < 9:\n",
        "        ax = data[item].value_counts().plot(kind = 'bar',ax=axes[i-6,2],rot = 0)\n",
        "    ax.set_title(item)"
      ],
      "execution_count": 22,
      "outputs": [
        {
          "output_type": "display_data",
          "data": {
            "image/png": "[encoded data removed]",
            "text/plain": [
              "<Figure size 1080x864 with 9 Axes>"
            ]
          },
          "metadata": {
            "tags": [],
            "needs_background": "light"
          }
        }
      ]
    },
    {
      "cell_type": "markdown",
      "metadata": {
        "id": "wb0OK2hHuFXT"
      },
      "source": [
        "### Outlier Detection"
      ]
    },
    {
      "cell_type": "code",
      "metadata": {
        "id": "eDGWuTN9uFXV"
      },
      "source": [
        "#Make function to detect outlier using upper bound and lower bound\n",
        "def outlier(sample):\n",
        "    Q1=sample.quantile(0.25)\n",
        "    Q3=sample.quantile(0.75)\n",
        "    IQR=Q3-Q1\n",
        "    lower_range = Q1 -(1.5 * IQR)\n",
        "    upper_range = Q3 +(1.5 * IQR)\n",
        "    number_outlier=len(sample[sample>upper_range])+len(sample[sample<lower_range])\n",
        "    print(\"Number of Outlier {}\".format(number_outlier))\n",
        "    if number_outlier>0:\n",
        "        print(\"Outlier observation row:\")\n",
        "    else:\n",
        "        pass\n",
        "    for i in range(len(sample)):\n",
        "        if sample[i]<lower_range: \n",
        "            print(i)\n",
        "        elif sample[i]>upper_range:\n",
        "            print(i)\n",
        "        else:\n",
        "            pass"
      ],
      "execution_count": 23,
      "outputs": []
    },
    {
      "cell_type": "code",
      "metadata": {
        "id": "-mG8aYrcuFXi",
        "outputId": "0aee9f7a-3573-4f5e-9074-d4bf13422073",
        "colab": {
          "base_uri": "https://localhost:8080/",
          "height": 34
        }
      },
      "source": [
        "#Check Outlier on the Tenure variable\n",
        "outlier(data[\"tenure\"])"
      ],
      "execution_count": 24,
      "outputs": [
        {
          "output_type": "stream",
          "text": [
            "Number of Outlier 0\n"
          ],
          "name": "stdout"
        }
      ]
    },
    {
      "cell_type": "code",
      "metadata": {
        "id": "ER6PNOqSuFXq",
        "outputId": "75941b1c-b077-49dd-cb45-e32d58e81a97",
        "colab": {
          "base_uri": "https://localhost:8080/",
          "height": 34
        }
      },
      "source": [
        "#Check Outlier on the monthlycharges variable\n",
        "outlier(data[\"monthlycharges\"])"
      ],
      "execution_count": 25,
      "outputs": [
        {
          "output_type": "stream",
          "text": [
            "Number of Outlier 0\n"
          ],
          "name": "stdout"
        }
      ]
    },
    {
      "cell_type": "code",
      "metadata": {
        "id": "L2vJJzqXuFXz",
        "outputId": "3579a4a1-96d5-4fa2-8476-087f677e1bb2",
        "colab": {
          "base_uri": "https://localhost:8080/",
          "height": 187
        }
      },
      "source": [
        "#Check Outlier on the totalcharges variable\n",
        "outlier(data[\"totalcharges\"])"
      ],
      "execution_count": 26,
      "outputs": [
        {
          "output_type": "stream",
          "text": [
            "Number of Outlier 8\n",
            "Outlier observation row:\n",
            "7024\n",
            "7025\n",
            "7026\n",
            "7027\n",
            "7028\n",
            "7029\n",
            "7030\n",
            "7031\n"
          ],
          "name": "stdout"
        }
      ]
    },
    {
      "cell_type": "code",
      "metadata": {
        "id": "k2J68J-ouFYM",
        "outputId": "0c72a202-7196-432b-b51e-eee587cef004",
        "colab": {
          "base_uri": "https://localhost:8080/",
          "height": 453
        }
      },
      "source": [
        "#See observation outliers on the totalcharges variable\n",
        "Q1=data[\"totalcharges\"].quantile(0.25)\n",
        "Q3=data[\"totalcharges\"].quantile(0.75)\n",
        "IQR=Q3-Q1\n",
        "lower_range = Q1 -(1.5 * IQR)\n",
        "upper_range = Q3 +(1.5 * IQR)\n",
        "data.loc[(data[\"totalcharges\"]>upper_range),:]"
      ],
      "execution_count": 27,
      "outputs": [
        {
          "output_type": "execute_result",
          "data": {
            "text/html": [
              "<div>\n",
              "<style scoped>\n",
              "    .dataframe tbody tr th:only-of-type {\n",
              "        vertical-align: middle;\n",
              "    }\n",
              "\n",
              "    .dataframe tbody tr th {\n",
              "        vertical-align: top;\n",
              "    }\n",
              "\n",
              "    .dataframe thead th {\n",
              "        text-align: right;\n",
              "    }\n",
              "</style>\n",
              "<table border=\"1\" class=\"dataframe\">\n",
              "  <thead>\n",
              "    <tr style=\"text-align: right;\">\n",
              "      <th></th>\n",
              "      <th>customerid</th>\n",
              "      <th>region</th>\n",
              "      <th>gender</th>\n",
              "      <th>seniorcitizen</th>\n",
              "      <th>partner</th>\n",
              "      <th>dependents</th>\n",
              "      <th>tenure</th>\n",
              "      <th>phoneservice</th>\n",
              "      <th>multiplelines</th>\n",
              "      <th>internetservice</th>\n",
              "      <th>onlinesecurity</th>\n",
              "      <th>onlinebackup</th>\n",
              "      <th>deviceprotection</th>\n",
              "      <th>techsupport</th>\n",
              "      <th>streamingtv</th>\n",
              "      <th>streamingmovies</th>\n",
              "      <th>paperlessbilling</th>\n",
              "      <th>paymentmethod</th>\n",
              "      <th>monthlycharges</th>\n",
              "      <th>totalcharges</th>\n",
              "      <th>churn</th>\n",
              "    </tr>\n",
              "  </thead>\n",
              "  <tbody>\n",
              "    <tr>\n",
              "      <th>7024</th>\n",
              "      <td>2889-FPWRM</td>\n",
              "      <td>Germany</td>\n",
              "      <td>Male</td>\n",
              "      <td>0</td>\n",
              "      <td>Yes</td>\n",
              "      <td>No</td>\n",
              "      <td>96</td>\n",
              "      <td>Yes</td>\n",
              "      <td>Yes</td>\n",
              "      <td>Fiber optic</td>\n",
              "      <td>Yes</td>\n",
              "      <td>Yes</td>\n",
              "      <td>Yes</td>\n",
              "      <td>Yes</td>\n",
              "      <td>Yes</td>\n",
              "      <td>Yes</td>\n",
              "      <td>Yes</td>\n",
              "      <td>Bank transfer (automatic)</td>\n",
              "      <td>117.80</td>\n",
              "      <td>11308.8</td>\n",
              "      <td>Yes</td>\n",
              "    </tr>\n",
              "    <tr>\n",
              "      <th>7025</th>\n",
              "      <td>7892-POOKP</td>\n",
              "      <td>France</td>\n",
              "      <td>Female</td>\n",
              "      <td>0</td>\n",
              "      <td>Yes</td>\n",
              "      <td>No</td>\n",
              "      <td>120</td>\n",
              "      <td>Yes</td>\n",
              "      <td>Yes</td>\n",
              "      <td>Fiber optic</td>\n",
              "      <td>No</td>\n",
              "      <td>No</td>\n",
              "      <td>Yes</td>\n",
              "      <td>Yes</td>\n",
              "      <td>Yes</td>\n",
              "      <td>Yes</td>\n",
              "      <td>Yes</td>\n",
              "      <td>Electronic check</td>\n",
              "      <td>104.80</td>\n",
              "      <td>12576.0</td>\n",
              "      <td>Yes</td>\n",
              "    </tr>\n",
              "    <tr>\n",
              "      <th>7026</th>\n",
              "      <td>7569-NMZYQ</td>\n",
              "      <td>Germany</td>\n",
              "      <td>Female</td>\n",
              "      <td>0</td>\n",
              "      <td>Yes</td>\n",
              "      <td>Yes</td>\n",
              "      <td>72</td>\n",
              "      <td>Yes</td>\n",
              "      <td>Yes</td>\n",
              "      <td>Fiber optic</td>\n",
              "      <td>Yes</td>\n",
              "      <td>Yes</td>\n",
              "      <td>Yes</td>\n",
              "      <td>Yes</td>\n",
              "      <td>Yes</td>\n",
              "      <td>Yes</td>\n",
              "      <td>Yes</td>\n",
              "      <td>Bank transfer (automatic)</td>\n",
              "      <td>118.75</td>\n",
              "      <td>15087.9</td>\n",
              "      <td>No</td>\n",
              "    </tr>\n",
              "    <tr>\n",
              "      <th>7027</th>\n",
              "      <td>9739-JLPQJ</td>\n",
              "      <td>Germany</td>\n",
              "      <td>Female</td>\n",
              "      <td>0</td>\n",
              "      <td>Yes</td>\n",
              "      <td>Yes</td>\n",
              "      <td>72</td>\n",
              "      <td>Yes</td>\n",
              "      <td>Yes</td>\n",
              "      <td>Fiber optic</td>\n",
              "      <td>Yes</td>\n",
              "      <td>Yes</td>\n",
              "      <td>Yes</td>\n",
              "      <td>Yes</td>\n",
              "      <td>Yes</td>\n",
              "      <td>Yes</td>\n",
              "      <td>No</td>\n",
              "      <td>Credit card (automatic)</td>\n",
              "      <td>117.50</td>\n",
              "      <td>16987.9</td>\n",
              "      <td>No</td>\n",
              "    </tr>\n",
              "    <tr>\n",
              "      <th>7028</th>\n",
              "      <td>9924-JPRMC</td>\n",
              "      <td>Germany</td>\n",
              "      <td>Male</td>\n",
              "      <td>0</td>\n",
              "      <td>No</td>\n",
              "      <td>No</td>\n",
              "      <td>72</td>\n",
              "      <td>Yes</td>\n",
              "      <td>Yes</td>\n",
              "      <td>Fiber optic</td>\n",
              "      <td>Yes</td>\n",
              "      <td>Yes</td>\n",
              "      <td>Yes</td>\n",
              "      <td>Yes</td>\n",
              "      <td>Yes</td>\n",
              "      <td>Yes</td>\n",
              "      <td>Yes</td>\n",
              "      <td>Electronic check</td>\n",
              "      <td>118.20</td>\n",
              "      <td>17987.3</td>\n",
              "      <td>No</td>\n",
              "    </tr>\n",
              "    <tr>\n",
              "      <th>7029</th>\n",
              "      <td>8879-XUAHX</td>\n",
              "      <td>Germany</td>\n",
              "      <td>Male</td>\n",
              "      <td>0</td>\n",
              "      <td>Yes</td>\n",
              "      <td>No</td>\n",
              "      <td>71</td>\n",
              "      <td>Yes</td>\n",
              "      <td>Yes</td>\n",
              "      <td>Fiber optic</td>\n",
              "      <td>Yes</td>\n",
              "      <td>Yes</td>\n",
              "      <td>Yes</td>\n",
              "      <td>Yes</td>\n",
              "      <td>Yes</td>\n",
              "      <td>Yes</td>\n",
              "      <td>Yes</td>\n",
              "      <td>Electronic check</td>\n",
              "      <td>116.25</td>\n",
              "      <td>18987.9</td>\n",
              "      <td>No</td>\n",
              "    </tr>\n",
              "    <tr>\n",
              "      <th>7030</th>\n",
              "      <td>9788-HNGUT</td>\n",
              "      <td>Germany</td>\n",
              "      <td>Male</td>\n",
              "      <td>0</td>\n",
              "      <td>Yes</td>\n",
              "      <td>No</td>\n",
              "      <td>72</td>\n",
              "      <td>Yes</td>\n",
              "      <td>Yes</td>\n",
              "      <td>Fiber optic</td>\n",
              "      <td>Yes</td>\n",
              "      <td>Yes</td>\n",
              "      <td>Yes</td>\n",
              "      <td>Yes</td>\n",
              "      <td>Yes</td>\n",
              "      <td>Yes</td>\n",
              "      <td>Yes</td>\n",
              "      <td>Credit card (automatic)</td>\n",
              "      <td>116.95</td>\n",
              "      <td>21987.5</td>\n",
              "      <td>No</td>\n",
              "    </tr>\n",
              "    <tr>\n",
              "      <th>7031</th>\n",
              "      <td>6007-TCTST</td>\n",
              "      <td>Germany</td>\n",
              "      <td>Female</td>\n",
              "      <td>0</td>\n",
              "      <td>Yes</td>\n",
              "      <td>Yes</td>\n",
              "      <td>72</td>\n",
              "      <td>Yes</td>\n",
              "      <td>Yes</td>\n",
              "      <td>Fiber optic</td>\n",
              "      <td>Yes</td>\n",
              "      <td>Yes</td>\n",
              "      <td>Yes</td>\n",
              "      <td>Yes</td>\n",
              "      <td>Yes</td>\n",
              "      <td>Yes</td>\n",
              "      <td>Yes</td>\n",
              "      <td>Bank transfer (automatic)</td>\n",
              "      <td>115.80</td>\n",
              "      <td>22345.6</td>\n",
              "      <td>No</td>\n",
              "    </tr>\n",
              "  </tbody>\n",
              "</table>\n",
              "</div>"
            ],
            "text/plain": [
              "      customerid   region  gender  ...  monthlycharges totalcharges churn\n",
              "7024  2889-FPWRM  Germany    Male  ...          117.80      11308.8   Yes\n",
              "7025  7892-POOKP   France  Female  ...          104.80      12576.0   Yes\n",
              "7026  7569-NMZYQ  Germany  Female  ...          118.75      15087.9    No\n",
              "7027  9739-JLPQJ  Germany  Female  ...          117.50      16987.9    No\n",
              "7028  9924-JPRMC  Germany    Male  ...          118.20      17987.3    No\n",
              "7029  8879-XUAHX  Germany    Male  ...          116.25      18987.9    No\n",
              "7030  9788-HNGUT  Germany    Male  ...          116.95      21987.5    No\n",
              "7031  6007-TCTST  Germany  Female  ...          115.80      22345.6    No\n",
              "\n",
              "[8 rows x 21 columns]"
            ]
          },
          "metadata": {
            "tags": []
          },
          "execution_count": 27
        }
      ]
    },
    {
      "cell_type": "code",
      "metadata": {
        "id": "RMgsRAaguFYR"
      },
      "source": [
        "#Replace outlier observations with upper bound and lower bound\n",
        "data.loc[(data[\"totalcharges\"]>upper_range),\"totalcharges\"]=upper_range\n",
        "data.loc[(data[\"totalcharges\"]<lower_range),\"totalcharges\"]=lower_range"
      ],
      "execution_count": 28,
      "outputs": []
    },
    {
      "cell_type": "code",
      "metadata": {
        "id": "08R5JJyeuFYk",
        "outputId": "05f404bf-652f-44f7-ad57-e8495024c767",
        "colab": {
          "base_uri": "https://localhost:8080/",
          "height": 34
        }
      },
      "source": [
        "#Check outlier after replace with upper and lower bound \n",
        "outlier(data[\"totalcharges\"])"
      ],
      "execution_count": 29,
      "outputs": [
        {
          "output_type": "stream",
          "text": [
            "Number of Outlier 0\n"
          ],
          "name": "stdout"
        }
      ]
    },
    {
      "cell_type": "markdown",
      "metadata": {
        "id": "c1fZiNNEuFY2"
      },
      "source": [
        "### Handle Inconsistent Data"
      ]
    },
    {
      "cell_type": "code",
      "metadata": {
        "id": "-CEkZgfkuFY5"
      },
      "source": [
        "#Replace \"No Internet Service\" with \"No\"\n",
        "replace_cols1 = ['onlinesecurity', 'onlinebackup', 'deviceprotection',\n",
        "                'techsupport','streamingtv', 'streamingmovies']\n",
        "for i in replace_cols1 :\n",
        "    data[i]  =data[i].str.strip()\n",
        "    data[i]  = data[i].replace({'No internet service' : 'No'})\n",
        "\n",
        "#Replace \"No Phone Service\" with \"No\"\n",
        "replace_cols2 = ['multiplelines']\n",
        "for i in replace_cols2 :\n",
        "    data[i]  =data[i].str.strip()\n",
        "    data[i]  = data[i].replace({'No phone service' : 'No'})"
      ],
      "execution_count": 30,
      "outputs": []
    },
    {
      "cell_type": "markdown",
      "metadata": {
        "id": "94m8h7AnuFZH"
      },
      "source": [
        "# Feature Enginering"
      ]
    },
    {
      "cell_type": "markdown",
      "metadata": {
        "id": "G7REb_4WuFZI"
      },
      "source": [
        "### Binning or Discretization Variable"
      ]
    },
    {
      "cell_type": "code",
      "metadata": {
        "id": "vg5C7fotuFZJ"
      },
      "source": [
        "#Binning tenure variables become categorical variables \n",
        "from sklearn.preprocessing import KBinsDiscretizer\n",
        "\n",
        "scaler=KBinsDiscretizer(n_bins=[5],encode=\"ordinal\",strategy='quantile')\n",
        "data[[\"tenure\"]]=scaler.fit_transform(data[[\"tenure\"]])"
      ],
      "execution_count": 31,
      "outputs": []
    },
    {
      "cell_type": "code",
      "metadata": {
        "id": "fGEkR7M3uGAs",
        "outputId": "c463b4a0-b331-4879-84dd-a0c1580569a9",
        "colab": {
          "base_uri": "https://localhost:8080/",
          "height": 391
        }
      },
      "source": [
        "#Check Tenure Data Type\n",
        "data.dtypes"
      ],
      "execution_count": 32,
      "outputs": [
        {
          "output_type": "execute_result",
          "data": {
            "text/plain": [
              "customerid           object\n",
              "region               object\n",
              "gender               object\n",
              "seniorcitizen         int64\n",
              "partner              object\n",
              "dependents           object\n",
              "tenure              float64\n",
              "phoneservice         object\n",
              "multiplelines        object\n",
              "internetservice      object\n",
              "onlinesecurity       object\n",
              "onlinebackup         object\n",
              "deviceprotection     object\n",
              "techsupport          object\n",
              "streamingtv          object\n",
              "streamingmovies      object\n",
              "paperlessbilling     object\n",
              "paymentmethod        object\n",
              "monthlycharges      float64\n",
              "totalcharges        float64\n",
              "churn                object\n",
              "dtype: object"
            ]
          },
          "metadata": {
            "tags": []
          },
          "execution_count": 32
        }
      ]
    },
    {
      "cell_type": "markdown",
      "metadata": {
        "id": "1V90BuecuFZR"
      },
      "source": [
        "### Encoding Variables"
      ]
    },
    {
      "cell_type": "code",
      "metadata": {
        "id": "p9bjhivTuFZS"
      },
      "source": [
        "from sklearn.preprocessing import LabelEncoder\n",
        "\n",
        "#Separating categorical and numerical columns\n",
        "Id_col     = ['customerid']\n",
        "target_col = [\"churn\"]\n",
        "cat_cols   = data.nunique()[data.nunique() < 5].keys().tolist()\n",
        "cat_cols   = [x for x in cat_cols if x not in target_col]\n",
        "num_cols   = [x for x in data.columns if x not in cat_cols + target_col + Id_col]\n",
        "\n",
        "#Binary columns with 2 values\n",
        "bin_cols   = data.nunique()[data.nunique() == 2].keys().tolist()\n",
        "\n",
        "#multinomial columns\n",
        "multi_cols = [i for i in cat_cols if i not in bin_cols]\n",
        "\n",
        "#Label encoding Binary columns\n",
        "le = LabelEncoder()\n",
        "for i in bin_cols :\n",
        "    data[i] = le.fit_transform(data[i])\n",
        "    \n",
        "#Label encoding for nominal multi value columns\n",
        "data2=pd.get_dummies(data = data,columns = multi_cols,drop_first=False)\n",
        "data3=pd.get_dummies(data = data,columns = multi_cols,drop_first=True)"
      ],
      "execution_count": 33,
      "outputs": []
    },
    {
      "cell_type": "markdown",
      "metadata": {
        "id": "gg4BMucHDa2m"
      },
      "source": [
        "### Feature Scaling"
      ]
    },
    {
      "cell_type": "code",
      "metadata": {
        "id": "qYJfI-HqDa2o"
      },
      "source": [
        "from sklearn.preprocessing import StandardScaler\n",
        "scaling_col=['monthlycharges', 'totalcharges']\n",
        "ss=StandardScaler()\n",
        "data2[scaling_col]=ss.fit_transform(data2[scaling_col])\n",
        "data3[scaling_col]=ss.fit_transform(data3[scaling_col])"
      ],
      "execution_count": 34,
      "outputs": []
    },
    {
      "cell_type": "markdown",
      "metadata": {
        "id": "jR952cm1uFaL"
      },
      "source": [
        "## Data Partition"
      ]
    },
    {
      "cell_type": "code",
      "metadata": {
        "id": "4liI6drRuFaL"
      },
      "source": [
        "from sklearn.model_selection import train_test_split\n",
        "\n",
        "##partition data into data training and data testing\n",
        "train2,test2 = train_test_split(data2,test_size = .20 ,random_state = 111)\n",
        "train3,test3 = train_test_split(data3,test_size = .20 ,random_state = 111)\n",
        " \n",
        "cols1    = [i for i in data2.columns if i not in Id_col + target_col]\n",
        "cols2    = [i for i in data3.columns if i not in Id_col + target_col]\n",
        "##seperating dependent and independent variables on training and testing data\n",
        "train2_X = train2[cols1]\n",
        "train2_Y = train2[target_col]\n",
        "test2_X  = test2[cols1]\n",
        "test2_Y  = test2[target_col]\n",
        "\n",
        "train3_X = train3[cols2]\n",
        "train3_Y = train3[target_col]\n",
        "test3_X  = test3[cols2]\n",
        "test3_Y  = test3[target_col]"
      ],
      "execution_count": 35,
      "outputs": []
    },
    {
      "cell_type": "markdown",
      "metadata": {
        "id": "s4eUCcehuFa4"
      },
      "source": [
        "## Synthetic Minority Over-sampling Technique (SMOTE)"
      ]
    },
    {
      "cell_type": "code",
      "metadata": {
        "id": "fbpPTgK6uFa5",
        "outputId": "2eddfa79-407e-4af6-87ae-83a272a95c8f",
        "colab": {
          "base_uri": "https://localhost:8080/",
          "height": 241
        }
      },
      "source": [
        "from imblearn.over_sampling import SMOTE\n",
        "\n",
        "#handle imbalance class using oversampling minority class with smote method\n",
        "os = SMOTE(sampling_strategy='minority',random_state = 1234,k_neighbors=5)\n",
        "train2_smote_X,train2_smote_Y = os.fit_sample(train2_X,train2_Y)\n",
        "train2_smote_X = pd.DataFrame(data = train2_smote_X,columns=cols1)\n",
        "train2_smote_Y = pd.DataFrame(data = train2_smote_Y,columns=target_col)\n",
        "\n",
        "train3_smote_X,train3_smote_Y = os.fit_sample(train3_X,train3_Y)\n",
        "train3_smote_X = pd.DataFrame(data = train3_smote_X,columns=cols2)\n",
        "train3_smote_Y = pd.DataFrame(data = train3_smote_Y,columns=target_col)"
      ],
      "execution_count": 36,
      "outputs": [
        {
          "output_type": "stream",
          "text": [
            "/usr/local/lib/python3.6/dist-packages/sklearn/externals/six.py:31: FutureWarning: The module is deprecated in version 0.21 and will be removed in version 0.23 since we've dropped support for Python 2.7. Please rely on the official version of six (https://pypi.org/project/six/).\n",
            "  \"(https://pypi.org/project/six/).\", FutureWarning)\n",
            "/usr/local/lib/python3.6/dist-packages/sklearn/utils/deprecation.py:144: FutureWarning: The sklearn.neighbors.base module is  deprecated in version 0.22 and will be removed in version 0.24. The corresponding classes / functions should instead be imported from sklearn.neighbors. Anything that cannot be imported from sklearn.neighbors is now part of the private API.\n",
            "  warnings.warn(message, FutureWarning)\n",
            "/usr/local/lib/python3.6/dist-packages/sklearn/utils/validation.py:760: DataConversionWarning: A column-vector y was passed when a 1d array was expected. Please change the shape of y to (n_samples, ), for example using ravel().\n",
            "  y = column_or_1d(y, warn=True)\n",
            "/usr/local/lib/python3.6/dist-packages/sklearn/utils/deprecation.py:87: FutureWarning: Function safe_indexing is deprecated; safe_indexing is deprecated in version 0.22 and will be removed in version 0.24.\n",
            "  warnings.warn(msg, category=FutureWarning)\n",
            "/usr/local/lib/python3.6/dist-packages/sklearn/utils/validation.py:760: DataConversionWarning: A column-vector y was passed when a 1d array was expected. Please change the shape of y to (n_samples, ), for example using ravel().\n",
            "  y = column_or_1d(y, warn=True)\n",
            "/usr/local/lib/python3.6/dist-packages/sklearn/utils/deprecation.py:87: FutureWarning: Function safe_indexing is deprecated; safe_indexing is deprecated in version 0.22 and will be removed in version 0.24.\n",
            "  warnings.warn(msg, category=FutureWarning)\n"
          ],
          "name": "stderr"
        }
      ]
    },
    {
      "cell_type": "code",
      "metadata": {
        "id": "68_OItOulhRO"
      },
      "source": [
        "## Modeling"
      ],
      "execution_count": 37,
      "outputs": []
    },
    {
      "cell_type": "markdown",
      "metadata": {
        "id": "vGhhygReDa4B"
      },
      "source": [
        "## Reglog"
      ]
    },
    {
      "cell_type": "code",
      "metadata": {
        "id": "7_qlf3mJDa4C",
        "outputId": "f87dd298-2247-4456-8633-468e1221c3fe",
        "colab": {
          "base_uri": "https://localhost:8080/",
          "height": 734
        }
      },
      "source": [
        "import statsmodels.api as sm \n",
        "log_reg = sm.Logit(train3_smote_Y, train3_smote_X).fit() \n",
        "print(log_reg.summary())"
      ],
      "execution_count": 38,
      "outputs": [
        {
          "output_type": "stream",
          "text": [
            "/usr/local/lib/python3.6/dist-packages/statsmodels/tools/_testing.py:19: FutureWarning: pandas.util.testing is deprecated. Use the functions in the public API at pandas.testing instead.\n",
            "  import pandas.util.testing as tm\n"
          ],
          "name": "stderr"
        },
        {
          "output_type": "stream",
          "text": [
            "Optimization terminated successfully.\n",
            "         Current function value: 0.477990\n",
            "         Iterations 6\n",
            "                           Logit Regression Results                           \n",
            "==============================================================================\n",
            "Dep. Variable:                  churn   No. Observations:                 8272\n",
            "Model:                          Logit   Df Residuals:                     8249\n",
            "Method:                           MLE   Df Model:                           22\n",
            "Date:                Tue, 20 Oct 2020   Pseudo R-squ.:                  0.3104\n",
            "Time:                        18:17:18   Log-Likelihood:                -3953.9\n",
            "converged:                       True   LL-Null:                       -5733.7\n",
            "Covariance Type:            nonrobust   LLR p-value:                     0.000\n",
            "=========================================================================================================\n",
            "                                            coef    std err          z      P>|z|      [0.025      0.975]\n",
            "---------------------------------------------------------------------------------------------------------\n",
            "gender                                   -0.0170      0.057     -0.299      0.765      -0.128       0.094\n",
            "seniorcitizen                             0.2665      0.078      3.413      0.001       0.113       0.420\n",
            "partner                                  -0.0615      0.069     -0.890      0.374      -0.197       0.074\n",
            "dependents                               -0.2511      0.077     -3.250      0.001      -0.403      -0.100\n",
            "tenure                                   -0.8540      0.053    -16.184      0.000      -0.957      -0.751\n",
            "phoneservice                             -0.2878      0.171     -1.684      0.092      -0.623       0.047\n",
            "multiplelines                             0.4272      0.084      5.099      0.000       0.263       0.591\n",
            "onlinesecurity                           -0.5144      0.079     -6.539      0.000      -0.669      -0.360\n",
            "onlinebackup                             -0.0521      0.075     -0.695      0.487      -0.199       0.095\n",
            "deviceprotection                         -0.0440      0.079     -0.557      0.577      -0.199       0.111\n",
            "techsupport                              -0.5638      0.079     -7.112      0.000      -0.719      -0.408\n",
            "streamingtv                               0.2296      0.106      2.168      0.030       0.022       0.437\n",
            "streamingmovies                           0.3895      0.104      3.758      0.000       0.186       0.593\n",
            "paperlessbilling                          0.4917      0.065      7.614      0.000       0.365       0.618\n",
            "monthlycharges                           -0.3078      0.247     -1.247      0.213      -0.792       0.176\n",
            "totalcharges                              0.2063      0.084      2.448      0.014       0.041       0.371\n",
            "region_France                             0.6179      0.332      1.860      0.063      -0.033       1.269\n",
            "region_Germany                            0.7654      0.276      2.778      0.005       0.225       1.305\n",
            "internetservice_Fiber optic               1.1563      0.213      5.425      0.000       0.739       1.574\n",
            "internetservice_No                       -1.3831      0.237     -5.834      0.000      -1.848      -0.918\n",
            "paymentmethod_Credit card (automatic)    -0.0269      0.095     -0.284      0.776      -0.213       0.159\n",
            "paymentmethod_Electronic check            0.4585      0.082      5.572      0.000       0.297       0.620\n",
            "paymentmethod_Mailed check                0.0056      0.099      0.057      0.954      -0.188       0.199\n",
            "=========================================================================================================\n"
          ],
          "name": "stdout"
        }
      ]
    },
    {
      "cell_type": "code",
      "metadata": {
        "id": "9qsMTazdDa4U",
        "outputId": "791634fb-ce61-4deb-a362-2c1eed242714",
        "colab": {
          "base_uri": "https://localhost:8080/",
          "height": 663
        }
      },
      "source": [
        "import statsmodels.api as sm \n",
        "log_reg = sm.Logit(train3_smote_Y, train3_smote_X.drop(labels=[\"seniorcitizen\"],axis=1)).fit() \n",
        "print(log_reg.summary())"
      ],
      "execution_count": 39,
      "outputs": [
        {
          "output_type": "stream",
          "text": [
            "Optimization terminated successfully.\n",
            "         Current function value: 0.478698\n",
            "         Iterations 6\n",
            "                           Logit Regression Results                           \n",
            "==============================================================================\n",
            "Dep. Variable:                  churn   No. Observations:                 8272\n",
            "Model:                          Logit   Df Residuals:                     8250\n",
            "Method:                           MLE   Df Model:                           21\n",
            "Date:                Tue, 20 Oct 2020   Pseudo R-squ.:                  0.3094\n",
            "Time:                        18:17:18   Log-Likelihood:                -3959.8\n",
            "converged:                       True   LL-Null:                       -5733.7\n",
            "Covariance Type:            nonrobust   LLR p-value:                     0.000\n",
            "=========================================================================================================\n",
            "                                            coef    std err          z      P>|z|      [0.025      0.975]\n",
            "---------------------------------------------------------------------------------------------------------\n",
            "gender                                   -0.0164      0.057     -0.289      0.773      -0.128       0.095\n",
            "partner                                  -0.0328      0.069     -0.479      0.632      -0.167       0.101\n",
            "dependents                               -0.3068      0.076     -4.061      0.000      -0.455      -0.159\n",
            "tenure                                   -0.8480      0.053    -16.112      0.000      -0.951      -0.745\n",
            "phoneservice                             -0.2772      0.170     -1.632      0.103      -0.610       0.056\n",
            "multiplelines                             0.4462      0.083      5.344      0.000       0.283       0.610\n",
            "onlinesecurity                           -0.5194      0.079     -6.616      0.000      -0.673      -0.366\n",
            "onlinebackup                             -0.0469      0.075     -0.627      0.531      -0.193       0.100\n",
            "deviceprotection                         -0.0369      0.079     -0.468      0.640      -0.191       0.118\n",
            "techsupport                              -0.5744      0.079     -7.269      0.000      -0.729      -0.420\n",
            "streamingtv                               0.2333      0.105      2.213      0.027       0.027       0.440\n",
            "streamingmovies                           0.4091      0.103      3.966      0.000       0.207       0.611\n",
            "paperlessbilling                          0.4945      0.065      7.658      0.000       0.368       0.621\n",
            "monthlycharges                           -0.3539      0.245     -1.445      0.148      -0.834       0.126\n",
            "totalcharges                              0.2062      0.084      2.453      0.014       0.041       0.371\n",
            "region_France                             0.5837      0.330      1.767      0.077      -0.064       1.231\n",
            "region_Germany                            0.7497      0.273      2.745      0.006       0.214       1.285\n",
            "internetservice_Fiber optic               1.2221      0.211      5.794      0.000       0.809       1.636\n",
            "internetservice_No                       -1.4396      0.235     -6.120      0.000      -1.901      -0.978\n",
            "paymentmethod_Credit card (automatic)    -0.0188      0.095     -0.199      0.842      -0.204       0.167\n",
            "paymentmethod_Electronic check            0.4708      0.082      5.730      0.000       0.310       0.632\n",
            "paymentmethod_Mailed check                0.0047      0.099      0.048      0.962      -0.188       0.198\n",
            "=========================================================================================================\n"
          ],
          "name": "stdout"
        }
      ]
    },
    {
      "cell_type": "code",
      "metadata": {
        "id": "UfJMSmoyDa4c",
        "outputId": "063d2532-f5a0-48da-f88c-2fbb481b8f39",
        "colab": {
          "base_uri": "https://localhost:8080/",
          "height": 646
        }
      },
      "source": [
        "import statsmodels.api as sm \n",
        "log_reg = sm.Logit(train3_smote_Y, train3_smote_X.drop(labels=[\"seniorcitizen\",\"streamingtv\"],axis=1)).fit() \n",
        "print(log_reg.summary())"
      ],
      "execution_count": 40,
      "outputs": [
        {
          "output_type": "stream",
          "text": [
            "Optimization terminated successfully.\n",
            "         Current function value: 0.478994\n",
            "         Iterations 6\n",
            "                           Logit Regression Results                           \n",
            "==============================================================================\n",
            "Dep. Variable:                  churn   No. Observations:                 8272\n",
            "Model:                          Logit   Df Residuals:                     8251\n",
            "Method:                           MLE   Df Model:                           20\n",
            "Date:                Tue, 20 Oct 2020   Pseudo R-squ.:                  0.3090\n",
            "Time:                        18:17:18   Log-Likelihood:                -3962.2\n",
            "converged:                       True   LL-Null:                       -5733.7\n",
            "Covariance Type:            nonrobust   LLR p-value:                     0.000\n",
            "=========================================================================================================\n",
            "                                            coef    std err          z      P>|z|      [0.025      0.975]\n",
            "---------------------------------------------------------------------------------------------------------\n",
            "gender                                   -0.0074      0.057     -0.131      0.895      -0.118       0.103\n",
            "partner                                  -0.0252      0.068     -0.369      0.712      -0.159       0.109\n",
            "dependents                               -0.3075      0.076     -4.072      0.000      -0.456      -0.159\n",
            "tenure                                   -0.8231      0.051    -16.076      0.000      -0.923      -0.723\n",
            "phoneservice                             -0.4969      0.139     -3.567      0.000      -0.770      -0.224\n",
            "multiplelines                             0.3798      0.078      4.868      0.000       0.227       0.533\n",
            "onlinesecurity                           -0.5769      0.074     -7.758      0.000      -0.723      -0.431\n",
            "onlinebackup                             -0.1000      0.071     -1.409      0.159      -0.239       0.039\n",
            "deviceprotection                         -0.0826      0.076     -1.084      0.278      -0.232       0.067\n",
            "techsupport                              -0.6192      0.077     -8.093      0.000      -0.769      -0.469\n",
            "streamingmovies                           0.3286      0.097      3.386      0.001       0.138       0.519\n",
            "paperlessbilling                          0.5111      0.064      7.977      0.000       0.385       0.637\n",
            "monthlycharges                            0.0355      0.171      0.207      0.836      -0.300       0.371\n",
            "totalcharges                              0.1721      0.082      2.088      0.037       0.011       0.334\n",
            "region_France                             0.9850      0.280      3.512      0.000       0.435       1.535\n",
            "region_Germany                            1.1370      0.215      5.296      0.000       0.716       1.558\n",
            "internetservice_Fiber optic               0.9216      0.162      5.687      0.000       0.604       1.239\n",
            "internetservice_No                       -1.1170      0.185     -6.046      0.000      -1.479      -0.755\n",
            "paymentmethod_Credit card (automatic)     0.0032      0.094      0.034      0.973      -0.181       0.188\n",
            "paymentmethod_Electronic check            0.5046      0.081      6.250      0.000       0.346       0.663\n",
            "paymentmethod_Mailed check                0.0370      0.097      0.380      0.704      -0.154       0.228\n",
            "=========================================================================================================\n"
          ],
          "name": "stdout"
        }
      ]
    },
    {
      "cell_type": "code",
      "metadata": {
        "id": "jTAfdGTNDa4m",
        "outputId": "2e1ffef3-c061-469c-9a5c-fa157bd080dc",
        "colab": {
          "base_uri": "https://localhost:8080/",
          "height": 629
        }
      },
      "source": [
        "import statsmodels.api as sm \n",
        "log_reg = sm.Logit(train3_smote_Y, train3_smote_X.drop(labels=[\"seniorcitizen\",\"streamingtv\",\"totalcharges\"],axis=1)).fit() \n",
        "print(log_reg.summary())"
      ],
      "execution_count": 41,
      "outputs": [
        {
          "output_type": "stream",
          "text": [
            "Optimization terminated successfully.\n",
            "         Current function value: 0.479257\n",
            "         Iterations 6\n",
            "                           Logit Regression Results                           \n",
            "==============================================================================\n",
            "Dep. Variable:                  churn   No. Observations:                 8272\n",
            "Model:                          Logit   Df Residuals:                     8252\n",
            "Method:                           MLE   Df Model:                           19\n",
            "Date:                Tue, 20 Oct 2020   Pseudo R-squ.:                  0.3086\n",
            "Time:                        18:17:18   Log-Likelihood:                -3964.4\n",
            "converged:                       True   LL-Null:                       -5733.7\n",
            "Covariance Type:            nonrobust   LLR p-value:                     0.000\n",
            "=========================================================================================================\n",
            "                                            coef    std err          z      P>|z|      [0.025      0.975]\n",
            "---------------------------------------------------------------------------------------------------------\n",
            "gender                                   -0.0068      0.057     -0.121      0.904      -0.118       0.104\n",
            "partner                                  -0.0205      0.068     -0.300      0.764      -0.155       0.114\n",
            "dependents                               -0.3133      0.075     -4.153      0.000      -0.461      -0.165\n",
            "tenure                                   -0.7381      0.030    -24.226      0.000      -0.798      -0.678\n",
            "phoneservice                             -0.5558      0.136     -4.097      0.000      -0.822      -0.290\n",
            "multiplelines                             0.3813      0.078      4.887      0.000       0.228       0.534\n",
            "onlinesecurity                           -0.5814      0.074     -7.820      0.000      -0.727      -0.436\n",
            "onlinebackup                             -0.0963      0.071     -1.356      0.175      -0.236       0.043\n",
            "deviceprotection                         -0.0842      0.076     -1.104      0.270      -0.234       0.065\n",
            "techsupport                              -0.6232      0.077     -8.147      0.000      -0.773      -0.473\n",
            "streamingmovies                           0.3055      0.096      3.174      0.002       0.117       0.494\n",
            "paperlessbilling                          0.5045      0.064      7.899      0.000       0.379       0.630\n",
            "monthlycharges                            0.1698      0.158      1.074      0.283      -0.140       0.480\n",
            "region_France                             0.9005      0.277      3.253      0.001       0.358       1.443\n",
            "region_Germany                            1.0509      0.210      5.015      0.000       0.640       1.462\n",
            "internetservice_Fiber optic               0.8569      0.158      5.407      0.000       0.546       1.168\n",
            "internetservice_No                       -1.0058      0.176     -5.706      0.000      -1.351      -0.660\n",
            "paymentmethod_Credit card (automatic)     0.0026      0.094      0.028      0.978      -0.182       0.187\n",
            "paymentmethod_Electronic check            0.4999      0.081      6.190      0.000       0.342       0.658\n",
            "paymentmethod_Mailed check                0.0454      0.097      0.468      0.640      -0.145       0.236\n",
            "=========================================================================================================\n"
          ],
          "name": "stdout"
        }
      ]
    },
    {
      "cell_type": "code",
      "metadata": {
        "id": "E_j5xmfRDa4u",
        "outputId": "39a4a2bb-5fdf-452a-e8eb-f8bb2180dcf0",
        "colab": {
          "base_uri": "https://localhost:8080/",
          "height": 612
        }
      },
      "source": [
        "import statsmodels.api as sm \n",
        "log_reg = sm.Logit(train3_smote_Y, train3_smote_X.drop(labels=[\"seniorcitizen\",\"streamingtv\",\"totalcharges\",\"multiplelines\"],axis=1)).fit() \n",
        "print(log_reg.summary())"
      ],
      "execution_count": 42,
      "outputs": [
        {
          "output_type": "stream",
          "text": [
            "Optimization terminated successfully.\n",
            "         Current function value: 0.480704\n",
            "         Iterations 6\n",
            "                           Logit Regression Results                           \n",
            "==============================================================================\n",
            "Dep. Variable:                  churn   No. Observations:                 8272\n",
            "Model:                          Logit   Df Residuals:                     8253\n",
            "Method:                           MLE   Df Model:                           18\n",
            "Date:                Tue, 20 Oct 2020   Pseudo R-squ.:                  0.3065\n",
            "Time:                        18:17:18   Log-Likelihood:                -3976.4\n",
            "converged:                       True   LL-Null:                       -5733.7\n",
            "Covariance Type:            nonrobust   LLR p-value:                     0.000\n",
            "=========================================================================================================\n",
            "                                            coef    std err          z      P>|z|      [0.025      0.975]\n",
            "---------------------------------------------------------------------------------------------------------\n",
            "gender                                   -0.0041      0.056     -0.072      0.942      -0.115       0.107\n",
            "partner                                  -0.0096      0.068     -0.141      0.888      -0.143       0.124\n",
            "dependents                               -0.3264      0.075     -4.331      0.000      -0.474      -0.179\n",
            "tenure                                   -0.7080      0.030    -23.850      0.000      -0.766      -0.650\n",
            "phoneservice                             -0.6355      0.135     -4.690      0.000      -0.901      -0.370\n",
            "onlinesecurity                           -0.6324      0.074     -8.583      0.000      -0.777      -0.488\n",
            "onlinebackup                             -0.1445      0.070     -2.055      0.040      -0.282      -0.007\n",
            "deviceprotection                         -0.1424      0.075     -1.888      0.059      -0.290       0.005\n",
            "techsupport                              -0.6903      0.075     -9.159      0.000      -0.838      -0.543\n",
            "streamingmovies                           0.1810      0.093      1.942      0.052      -0.002       0.364\n",
            "paperlessbilling                          0.5207      0.064      8.164      0.000       0.396       0.646\n",
            "monthlycharges                            0.4974      0.145      3.439      0.001       0.214       0.781\n",
            "region_France                             1.2225      0.271      4.518      0.000       0.692       1.753\n",
            "region_Germany                            1.3590      0.203      6.703      0.000       0.962       1.756\n",
            "internetservice_Fiber optic               0.6396      0.153      4.183      0.000       0.340       0.939\n",
            "internetservice_No                       -0.7494      0.169     -4.434      0.000      -1.081      -0.418\n",
            "paymentmethod_Credit card (automatic)     0.0300      0.094      0.320      0.749      -0.154       0.214\n",
            "paymentmethod_Electronic check            0.5173      0.081      6.418      0.000       0.359       0.675\n",
            "paymentmethod_Mailed check                0.0559      0.097      0.576      0.565      -0.134       0.246\n",
            "=========================================================================================================\n"
          ],
          "name": "stdout"
        }
      ]
    },
    {
      "cell_type": "code",
      "metadata": {
        "id": "5e8gvuJcDa46",
        "outputId": "4d617dcb-694d-4722-fec7-71c189559a59",
        "colab": {
          "base_uri": "https://localhost:8080/",
          "height": 595
        }
      },
      "source": [
        "import statsmodels.api as sm \n",
        "log_reg = sm.Logit(train3_smote_Y, train3_smote_X.drop(labels=[\"seniorcitizen\",\"streamingtv\",\"totalcharges\",\"multiplelines\",\"streamingmovies\"],axis=1)).fit() \n",
        "print(log_reg.summary())"
      ],
      "execution_count": 43,
      "outputs": [
        {
          "output_type": "stream",
          "text": [
            "Optimization terminated successfully.\n",
            "         Current function value: 0.480932\n",
            "         Iterations 6\n",
            "                           Logit Regression Results                           \n",
            "==============================================================================\n",
            "Dep. Variable:                  churn   No. Observations:                 8272\n",
            "Model:                          Logit   Df Residuals:                     8254\n",
            "Method:                           MLE   Df Model:                           17\n",
            "Date:                Tue, 20 Oct 2020   Pseudo R-squ.:                  0.3062\n",
            "Time:                        18:17:19   Log-Likelihood:                -3978.3\n",
            "converged:                       True   LL-Null:                       -5733.7\n",
            "Covariance Type:            nonrobust   LLR p-value:                     0.000\n",
            "=========================================================================================================\n",
            "                                            coef    std err          z      P>|z|      [0.025      0.975]\n",
            "---------------------------------------------------------------------------------------------------------\n",
            "gender                                   -0.0014      0.056     -0.025      0.980      -0.112       0.109\n",
            "partner                                  -0.0057      0.068     -0.083      0.934      -0.139       0.128\n",
            "dependents                               -0.3282      0.075     -4.358      0.000      -0.476      -0.181\n",
            "tenure                                   -0.7058      0.030    -23.805      0.000      -0.764      -0.648\n",
            "phoneservice                             -0.7602      0.120     -6.331      0.000      -0.996      -0.525\n",
            "onlinesecurity                           -0.6600      0.072     -9.116      0.000      -0.802      -0.518\n",
            "onlinebackup                             -0.1719      0.069     -2.492      0.013      -0.307      -0.037\n",
            "deviceprotection                         -0.1634      0.075     -2.186      0.029      -0.310      -0.017\n",
            "techsupport                              -0.7157      0.074     -9.632      0.000      -0.861      -0.570\n",
            "paperlessbilling                          0.5264      0.064      8.263      0.000       0.402       0.651\n",
            "monthlycharges                            0.6888      0.107      6.449      0.000       0.479       0.898\n",
            "region_France                             1.4547      0.244      5.961      0.000       0.976       1.933\n",
            "region_Germany                            1.5901      0.166      9.554      0.000       1.264       1.916\n",
            "internetservice_Fiber optic               0.4805      0.130      3.710      0.000       0.227       0.734\n",
            "internetservice_No                       -0.5912      0.149     -3.980      0.000      -0.882      -0.300\n",
            "paymentmethod_Credit card (automatic)     0.0392      0.094      0.418      0.676      -0.145       0.223\n",
            "paymentmethod_Electronic check            0.5330      0.080      6.644      0.000       0.376       0.690\n",
            "paymentmethod_Mailed check                0.0687      0.097      0.710      0.478      -0.121       0.258\n",
            "=========================================================================================================\n"
          ],
          "name": "stdout"
        }
      ]
    },
    {
      "cell_type": "code",
      "metadata": {
        "id": "JzuLfrGDDa5S",
        "outputId": "92c583ae-40b9-43e8-9d65-2a8819a7ebc6",
        "colab": {
          "base_uri": "https://localhost:8080/",
          "height": 578
        }
      },
      "source": [
        "import statsmodels.api as sm \n",
        "log_reg = sm.Logit(train3_smote_Y, train3_smote_X.drop(labels=[\"seniorcitizen\",\"streamingtv\",\"totalcharges\",\"multiplelines\",\"streamingmovies\",\"partner\"],axis=1)).fit() \n",
        "print(log_reg.summary())"
      ],
      "execution_count": 44,
      "outputs": [
        {
          "output_type": "stream",
          "text": [
            "Optimization terminated successfully.\n",
            "         Current function value: 0.480932\n",
            "         Iterations 6\n",
            "                           Logit Regression Results                           \n",
            "==============================================================================\n",
            "Dep. Variable:                  churn   No. Observations:                 8272\n",
            "Model:                          Logit   Df Residuals:                     8255\n",
            "Method:                           MLE   Df Model:                           16\n",
            "Date:                Tue, 20 Oct 2020   Pseudo R-squ.:                  0.3062\n",
            "Time:                        18:17:19   Log-Likelihood:                -3978.3\n",
            "converged:                       True   LL-Null:                       -5733.7\n",
            "Covariance Type:            nonrobust   LLR p-value:                     0.000\n",
            "=========================================================================================================\n",
            "                                            coef    std err          z      P>|z|      [0.025      0.975]\n",
            "---------------------------------------------------------------------------------------------------------\n",
            "gender                                   -0.0015      0.056     -0.027      0.978      -0.112       0.109\n",
            "dependents                               -0.3310      0.068     -4.891      0.000      -0.464      -0.198\n",
            "tenure                                   -0.7064      0.029    -24.535      0.000      -0.763      -0.650\n",
            "phoneservice                             -0.7598      0.120     -6.332      0.000      -0.995      -0.525\n",
            "onlinesecurity                           -0.6601      0.072     -9.117      0.000      -0.802      -0.518\n",
            "onlinebackup                             -0.1719      0.069     -2.492      0.013      -0.307      -0.037\n",
            "deviceprotection                         -0.1635      0.075     -2.188      0.029      -0.310      -0.017\n",
            "techsupport                              -0.7156      0.074     -9.632      0.000      -0.861      -0.570\n",
            "paperlessbilling                          0.5265      0.064      8.263      0.000       0.402       0.651\n",
            "monthlycharges                            0.6886      0.107      6.450      0.000       0.479       0.898\n",
            "region_France                             1.4539      0.244      5.963      0.000       0.976       1.932\n",
            "region_Germany                            1.5893      0.166      9.567      0.000       1.264       1.915\n",
            "internetservice_Fiber optic               0.4803      0.129      3.709      0.000       0.227       0.734\n",
            "internetservice_No                       -0.5916      0.148     -3.985      0.000      -0.883      -0.301\n",
            "paymentmethod_Credit card (automatic)     0.0393      0.094      0.419      0.675      -0.144       0.223\n",
            "paymentmethod_Electronic check            0.5330      0.080      6.644      0.000       0.376       0.690\n",
            "paymentmethod_Mailed check                0.0689      0.097      0.712      0.476      -0.121       0.259\n",
            "=========================================================================================================\n"
          ],
          "name": "stdout"
        }
      ]
    },
    {
      "cell_type": "markdown",
      "metadata": {
        "id": "GaPlZBVWDa5h"
      },
      "source": [
        "#### Evaluation"
      ]
    },
    {
      "cell_type": "code",
      "metadata": {
        "id": "E8RyPl6SDa5j"
      },
      "source": [
        "pred=log_reg.predict(test3_X.drop(labels=[\"seniorcitizen\",\"streamingtv\",\"totalcharges\",\"multiplelines\",\"streamingmovies\",\"partner\"],axis=1))"
      ],
      "execution_count": 45,
      "outputs": []
    },
    {
      "cell_type": "code",
      "metadata": {
        "id": "aNkvydkxKWQ8",
        "outputId": "e51f0e85-cc9c-4425-9ad6-04453bc5022e",
        "colab": {
          "base_uri": "https://localhost:8080/",
          "height": 221
        }
      },
      "source": [
        "pred"
      ],
      "execution_count": 46,
      "outputs": [
        {
          "output_type": "execute_result",
          "data": {
            "text/plain": [
              "6842    0.537360\n",
              "3576    0.744192\n",
              "1206    0.672420\n",
              "5037    0.554396\n",
              "5131    0.290870\n",
              "          ...   \n",
              "6009    0.325260\n",
              "1168    0.955414\n",
              "619     0.920403\n",
              "2001    0.295589\n",
              "4104    0.151091\n",
              "Length: 1409, dtype: float64"
            ]
          },
          "metadata": {
            "tags": []
          },
          "execution_count": 46
        }
      ]
    },
    {
      "cell_type": "code",
      "metadata": {
        "id": "1IeRKi8qDa5r",
        "outputId": "d408acd1-b80e-4272-ef03-c4467545ba31",
        "colab": {
          "base_uri": "https://localhost:8080/",
          "height": 34
        }
      },
      "source": [
        "from sklearn.metrics import accuracy_score\n",
        "print(\"Accuracy for Reglog on CV data: \",accuracy_score(test3_Y,np.round(pred)))"
      ],
      "execution_count": 47,
      "outputs": [
        {
          "output_type": "stream",
          "text": [
            "Accuracy for Reglog on CV data:  0.7444996451383961\n"
          ],
          "name": "stdout"
        }
      ]
    },
    {
      "cell_type": "code",
      "metadata": {
        "id": "7TjzlIfCDa53",
        "outputId": "3105a6d7-807d-4ee9-efc7-cc989a08bd92",
        "colab": {
          "base_uri": "https://localhost:8080/",
          "height": 51
        }
      },
      "source": [
        "from sklearn.metrics import confusion_matrix\n",
        "CF=confusion_matrix(test3_Y, np.round(pred))\n",
        "CF"
      ],
      "execution_count": 48,
      "outputs": [
        {
          "output_type": "execute_result",
          "data": {
            "text/plain": [
              "array([[769, 269],\n",
              "       [ 91, 280]])"
            ]
          },
          "metadata": {
            "tags": []
          },
          "execution_count": 48
        }
      ]
    },
    {
      "cell_type": "code",
      "metadata": {
        "id": "QpRCxOlVDa64",
        "outputId": "e7f70b11-7147-4298-f8d8-fa3ff4520aa6",
        "colab": {
          "base_uri": "https://localhost:8080/",
          "height": 170
        }
      },
      "source": [
        "from sklearn.metrics import classification_report\n",
        "target_names = ['No','Yes']\n",
        "print(classification_report(test3_Y, np.round(pred), target_names=target_names))"
      ],
      "execution_count": 49,
      "outputs": [
        {
          "output_type": "stream",
          "text": [
            "              precision    recall  f1-score   support\n",
            "\n",
            "          No       0.89      0.74      0.81      1038\n",
            "         Yes       0.51      0.75      0.61       371\n",
            "\n",
            "    accuracy                           0.74      1409\n",
            "   macro avg       0.70      0.75      0.71      1409\n",
            "weighted avg       0.79      0.74      0.76      1409\n",
            "\n"
          ],
          "name": "stdout"
        }
      ]
    },
    {
      "cell_type": "code",
      "metadata": {
        "id": "ydRAzX_yDa7G",
        "outputId": "79004c97-33aa-449a-d583-051eba71bb14",
        "colab": {
          "base_uri": "https://localhost:8080/",
          "height": 295
        }
      },
      "source": [
        "from sklearn.metrics import roc_curve\n",
        "import matplotlib.pyplot as plt\n",
        "# Generate ROC curve values: fpr, tpr, thresholds\n",
        "fpr, tpr, thresholds = roc_curve(test2_Y, pred)\n",
        "# Plot ROC curve\n",
        "plt.plot([0, 1], [0, 1], 'k--')\n",
        "plt.plot(fpr, tpr)\n",
        "plt.xlabel('False Positive Rate')\n",
        "plt.ylabel('True Positive Rate')\n",
        "plt.title('ROC Curve')\n",
        "plt.show()"
      ],
      "execution_count": 50,
      "outputs": [
        {
          "output_type": "display_data",
          "data": {
            "image/png": "[encoded data removed]",
            "text/plain": [
              "<Figure size 432x288 with 1 Axes>"
            ]
          },
          "metadata": {
            "tags": [],
            "needs_background": "light"
          }
        }
      ]
    },
    {
      "cell_type": "code",
      "metadata": {
        "id": "j3N9JAdIDa7L",
        "outputId": "8a4667d6-2d0a-4d7f-9c2a-8c17da13c631",
        "colab": {
          "base_uri": "https://localhost:8080/",
          "height": 34
        }
      },
      "source": [
        "from sklearn.metrics import roc_auc_score\n",
        "roc_auc_score(test2_Y,np.round(pred))"
      ],
      "execution_count": 51,
      "outputs": [
        {
          "output_type": "execute_result",
          "data": {
            "text/plain": [
              "0.7477823826662304"
            ]
          },
          "metadata": {
            "tags": []
          },
          "execution_count": 51
        }
      ]
    },
    {
      "cell_type": "markdown",
      "metadata": {
        "id": "Rc6h_ZvQDa7R"
      },
      "source": [
        "## Random Forest"
      ]
    },
    {
      "cell_type": "code",
      "metadata": {
        "id": "rA32u0tLDa7S"
      },
      "source": [
        "from sklearn.model_selection import GridSearchCV\n",
        "from sklearn.ensemble import RandomForestClassifier\n",
        "from sklearn.metrics import accuracy_score\n",
        "rfc=RandomForestClassifier()\n",
        "param_grid = { \n",
        "    'n_estimators': [200, 500,1000],\n",
        "    'max_features': ['auto','log2'],\n",
        "    'criterion' :['entropy','gini']\n",
        "}"
      ],
      "execution_count": 52,
      "outputs": []
    },
    {
      "cell_type": "code",
      "metadata": {
        "id": "gojy5AKzDa7b",
        "outputId": "665674ed-dfc2-41cd-e8bd-c22ec59f0348",
        "colab": {
          "base_uri": "https://localhost:8080/",
          "height": 1000
        }
      },
      "source": [
        "CV_rfc = GridSearchCV(estimator=rfc, param_grid=param_grid, cv= 3)\n",
        "CV_rfc.fit(train2_smote_X, train2_smote_Y)"
      ],
      "execution_count": 53,
      "outputs": [
        {
          "output_type": "stream",
          "text": [
            "/usr/local/lib/python3.6/dist-packages/sklearn/model_selection/_validation.py:515: DataConversionWarning: A column-vector y was passed when a 1d array was expected. Please change the shape of y to (n_samples,), for example using ravel().\n",
            "  estimator.fit(X_train, y_train, **fit_params)\n",
            "/usr/local/lib/python3.6/dist-packages/sklearn/model_selection/_validation.py:515: DataConversionWarning: A column-vector y was passed when a 1d array was expected. Please change the shape of y to (n_samples,), for example using ravel().\n",
            "  estimator.fit(X_train, y_train, **fit_params)\n",
            "/usr/local/lib/python3.6/dist-packages/sklearn/model_selection/_validation.py:515: DataConversionWarning: A column-vector y was passed when a 1d array was expected. Please change the shape of y to (n_samples,), for example using ravel().\n",
            "  estimator.fit(X_train, y_train, **fit_params)\n",
            "/usr/local/lib/python3.6/dist-packages/sklearn/model_selection/_validation.py:515: DataConversionWarning: A column-vector y was passed when a 1d array was expected. Please change the shape of y to (n_samples,), for example using ravel().\n",
            "  estimator.fit(X_train, y_train, **fit_params)\n",
            "/usr/local/lib/python3.6/dist-packages/sklearn/model_selection/_validation.py:515: DataConversionWarning: A column-vector y was passed when a 1d array was expected. Please change the shape of y to (n_samples,), for example using ravel().\n",
            "  estimator.fit(X_train, y_train, **fit_params)\n",
            "/usr/local/lib/python3.6/dist-packages/sklearn/model_selection/_validation.py:515: DataConversionWarning: A column-vector y was passed when a 1d array was expected. Please change the shape of y to (n_samples,), for example using ravel().\n",
            "  estimator.fit(X_train, y_train, **fit_params)\n",
            "/usr/local/lib/python3.6/dist-packages/sklearn/model_selection/_validation.py:515: DataConversionWarning: A column-vector y was passed when a 1d array was expected. Please change the shape of y to (n_samples,), for example using ravel().\n",
            "  estimator.fit(X_train, y_train, **fit_params)\n",
            "/usr/local/lib/python3.6/dist-packages/sklearn/model_selection/_validation.py:515: DataConversionWarning: A column-vector y was passed when a 1d array was expected. Please change the shape of y to (n_samples,), for example using ravel().\n",
            "  estimator.fit(X_train, y_train, **fit_params)\n",
            "/usr/local/lib/python3.6/dist-packages/sklearn/model_selection/_validation.py:515: DataConversionWarning: A column-vector y was passed when a 1d array was expected. Please change the shape of y to (n_samples,), for example using ravel().\n",
            "  estimator.fit(X_train, y_train, **fit_params)\n",
            "/usr/local/lib/python3.6/dist-packages/sklearn/model_selection/_validation.py:515: DataConversionWarning: A column-vector y was passed when a 1d array was expected. Please change the shape of y to (n_samples,), for example using ravel().\n",
            "  estimator.fit(X_train, y_train, **fit_params)\n",
            "/usr/local/lib/python3.6/dist-packages/sklearn/model_selection/_validation.py:515: DataConversionWarning: A column-vector y was passed when a 1d array was expected. Please change the shape of y to (n_samples,), for example using ravel().\n",
            "  estimator.fit(X_train, y_train, **fit_params)\n",
            "/usr/local/lib/python3.6/dist-packages/sklearn/model_selection/_validation.py:515: DataConversionWarning: A column-vector y was passed when a 1d array was expected. Please change the shape of y to (n_samples,), for example using ravel().\n",
            "  estimator.fit(X_train, y_train, **fit_params)\n",
            "/usr/local/lib/python3.6/dist-packages/sklearn/model_selection/_validation.py:515: DataConversionWarning: A column-vector y was passed when a 1d array was expected. Please change the shape of y to (n_samples,), for example using ravel().\n",
            "  estimator.fit(X_train, y_train, **fit_params)\n",
            "/usr/local/lib/python3.6/dist-packages/sklearn/model_selection/_validation.py:515: DataConversionWarning: A column-vector y was passed when a 1d array was expected. Please change the shape of y to (n_samples,), for example using ravel().\n",
            "  estimator.fit(X_train, y_train, **fit_params)\n",
            "/usr/local/lib/python3.6/dist-packages/sklearn/model_selection/_validation.py:515: DataConversionWarning: A column-vector y was passed when a 1d array was expected. Please change the shape of y to (n_samples,), for example using ravel().\n",
            "  estimator.fit(X_train, y_train, **fit_params)\n",
            "/usr/local/lib/python3.6/dist-packages/sklearn/model_selection/_validation.py:515: DataConversionWarning: A column-vector y was passed when a 1d array was expected. Please change the shape of y to (n_samples,), for example using ravel().\n",
            "  estimator.fit(X_train, y_train, **fit_params)\n",
            "/usr/local/lib/python3.6/dist-packages/sklearn/model_selection/_validation.py:515: DataConversionWarning: A column-vector y was passed when a 1d array was expected. Please change the shape of y to (n_samples,), for example using ravel().\n",
            "  estimator.fit(X_train, y_train, **fit_params)\n",
            "/usr/local/lib/python3.6/dist-packages/sklearn/model_selection/_validation.py:515: DataConversionWarning: A column-vector y was passed when a 1d array was expected. Please change the shape of y to (n_samples,), for example using ravel().\n",
            "  estimator.fit(X_train, y_train, **fit_params)\n",
            "/usr/local/lib/python3.6/dist-packages/sklearn/model_selection/_validation.py:515: DataConversionWarning: A column-vector y was passed when a 1d array was expected. Please change the shape of y to (n_samples,), for example using ravel().\n",
            "  estimator.fit(X_train, y_train, **fit_params)\n",
            "/usr/local/lib/python3.6/dist-packages/sklearn/model_selection/_validation.py:515: DataConversionWarning: A column-vector y was passed when a 1d array was expected. Please change the shape of y to (n_samples,), for example using ravel().\n",
            "  estimator.fit(X_train, y_train, **fit_params)\n",
            "/usr/local/lib/python3.6/dist-packages/sklearn/model_selection/_validation.py:515: DataConversionWarning: A column-vector y was passed when a 1d array was expected. Please change the shape of y to (n_samples,), for example using ravel().\n",
            "  estimator.fit(X_train, y_train, **fit_params)\n",
            "/usr/local/lib/python3.6/dist-packages/sklearn/model_selection/_validation.py:515: DataConversionWarning: A column-vector y was passed when a 1d array was expected. Please change the shape of y to (n_samples,), for example using ravel().\n",
            "  estimator.fit(X_train, y_train, **fit_params)\n",
            "/usr/local/lib/python3.6/dist-packages/sklearn/model_selection/_validation.py:515: DataConversionWarning: A column-vector y was passed when a 1d array was expected. Please change the shape of y to (n_samples,), for example using ravel().\n",
            "  estimator.fit(X_train, y_train, **fit_params)\n",
            "/usr/local/lib/python3.6/dist-packages/sklearn/model_selection/_validation.py:515: DataConversionWarning: A column-vector y was passed when a 1d array was expected. Please change the shape of y to (n_samples,), for example using ravel().\n",
            "  estimator.fit(X_train, y_train, **fit_params)\n",
            "/usr/local/lib/python3.6/dist-packages/sklearn/model_selection/_validation.py:515: DataConversionWarning: A column-vector y was passed when a 1d array was expected. Please change the shape of y to (n_samples,), for example using ravel().\n",
            "  estimator.fit(X_train, y_train, **fit_params)\n",
            "/usr/local/lib/python3.6/dist-packages/sklearn/model_selection/_validation.py:515: DataConversionWarning: A column-vector y was passed when a 1d array was expected. Please change the shape of y to (n_samples,), for example using ravel().\n",
            "  estimator.fit(X_train, y_train, **fit_params)\n",
            "/usr/local/lib/python3.6/dist-packages/sklearn/model_selection/_validation.py:515: DataConversionWarning: A column-vector y was passed when a 1d array was expected. Please change the shape of y to (n_samples,), for example using ravel().\n",
            "  estimator.fit(X_train, y_train, **fit_params)\n",
            "/usr/local/lib/python3.6/dist-packages/sklearn/model_selection/_validation.py:515: DataConversionWarning: A column-vector y was passed when a 1d array was expected. Please change the shape of y to (n_samples,), for example using ravel().\n",
            "  estimator.fit(X_train, y_train, **fit_params)\n",
            "/usr/local/lib/python3.6/dist-packages/sklearn/model_selection/_validation.py:515: DataConversionWarning: A column-vector y was passed when a 1d array was expected. Please change the shape of y to (n_samples,), for example using ravel().\n",
            "  estimator.fit(X_train, y_train, **fit_params)\n",
            "/usr/local/lib/python3.6/dist-packages/sklearn/model_selection/_validation.py:515: DataConversionWarning: A column-vector y was passed when a 1d array was expected. Please change the shape of y to (n_samples,), for example using ravel().\n",
            "  estimator.fit(X_train, y_train, **fit_params)\n",
            "/usr/local/lib/python3.6/dist-packages/sklearn/model_selection/_validation.py:515: DataConversionWarning: A column-vector y was passed when a 1d array was expected. Please change the shape of y to (n_samples,), for example using ravel().\n",
            "  estimator.fit(X_train, y_train, **fit_params)\n",
            "/usr/local/lib/python3.6/dist-packages/sklearn/model_selection/_validation.py:515: DataConversionWarning: A column-vector y was passed when a 1d array was expected. Please change the shape of y to (n_samples,), for example using ravel().\n",
            "  estimator.fit(X_train, y_train, **fit_params)\n",
            "/usr/local/lib/python3.6/dist-packages/sklearn/model_selection/_validation.py:515: DataConversionWarning: A column-vector y was passed when a 1d array was expected. Please change the shape of y to (n_samples,), for example using ravel().\n",
            "  estimator.fit(X_train, y_train, **fit_params)\n",
            "/usr/local/lib/python3.6/dist-packages/sklearn/model_selection/_validation.py:515: DataConversionWarning: A column-vector y was passed when a 1d array was expected. Please change the shape of y to (n_samples,), for example using ravel().\n",
            "  estimator.fit(X_train, y_train, **fit_params)\n",
            "/usr/local/lib/python3.6/dist-packages/sklearn/model_selection/_validation.py:515: DataConversionWarning: A column-vector y was passed when a 1d array was expected. Please change the shape of y to (n_samples,), for example using ravel().\n",
            "  estimator.fit(X_train, y_train, **fit_params)\n",
            "/usr/local/lib/python3.6/dist-packages/sklearn/model_selection/_validation.py:515: DataConversionWarning: A column-vector y was passed when a 1d array was expected. Please change the shape of y to (n_samples,), for example using ravel().\n",
            "  estimator.fit(X_train, y_train, **fit_params)\n",
            "/usr/local/lib/python3.6/dist-packages/sklearn/model_selection/_search.py:739: DataConversionWarning: A column-vector y was passed when a 1d array was expected. Please change the shape of y to (n_samples,), for example using ravel().\n",
            "  self.best_estimator_.fit(X, y, **fit_params)\n"
          ],
          "name": "stderr"
        },
        {
          "output_type": "execute_result",
          "data": {
            "text/plain": [
              "GridSearchCV(cv=3, error_score=nan,\n",
              "             estimator=RandomForestClassifier(bootstrap=True, ccp_alpha=0.0,\n",
              "                                              class_weight=None,\n",
              "                                              criterion='gini', max_depth=None,\n",
              "                                              max_features='auto',\n",
              "                                              max_leaf_nodes=None,\n",
              "                                              max_samples=None,\n",
              "                                              min_impurity_decrease=0.0,\n",
              "                                              min_impurity_split=None,\n",
              "                                              min_samples_leaf=1,\n",
              "                                              min_samples_split=2,\n",
              "                                              min_weight_fraction_leaf=0.0,\n",
              "                                              n_estimators=100, n_jobs=None,\n",
              "                                              oob_score=False,\n",
              "                                              random_state=None, verbose=0,\n",
              "                                              warm_start=False),\n",
              "             iid='deprecated', n_jobs=None,\n",
              "             param_grid={'criterion': ['entropy', 'gini'],\n",
              "                         'max_features': ['auto', 'log2'],\n",
              "                         'n_estimators': [200, 500, 1000]},\n",
              "             pre_dispatch='2*n_jobs', refit=True, return_train_score=False,\n",
              "             scoring=None, verbose=0)"
            ]
          },
          "metadata": {
            "tags": []
          },
          "execution_count": 53
        }
      ]
    },
    {
      "cell_type": "code",
      "metadata": {
        "id": "k6Cd8TWKDa7f",
        "outputId": "0e896b16-2cee-4d72-a460-064a8089015a",
        "colab": {
          "base_uri": "https://localhost:8080/",
          "height": 34
        }
      },
      "source": [
        "CV_rfc.best_params_"
      ],
      "execution_count": 54,
      "outputs": [
        {
          "output_type": "execute_result",
          "data": {
            "text/plain": [
              "{'criterion': 'gini', 'max_features': 'auto', 'n_estimators': 200}"
            ]
          },
          "metadata": {
            "tags": []
          },
          "execution_count": 54
        }
      ]
    },
    {
      "cell_type": "code",
      "metadata": {
        "id": "R3Qg5DuODa7p",
        "outputId": "8c3e5d61-509f-4e88-f842-e404767b9e8f",
        "colab": {
          "base_uri": "https://localhost:8080/",
          "height": 1000
        }
      },
      "source": [
        "CV_rfc.cv_results_"
      ],
      "execution_count": 55,
      "outputs": [
        {
          "output_type": "execute_result",
          "data": {
            "text/plain": [
              "{'mean_fit_time': array([2.00950845, 4.97555836, 9.92651963, 1.78150296, 4.36905146,\n",
              "        8.7305905 , 1.42715279, 3.57554491, 7.03027598, 1.29475745,\n",
              "        3.21365611, 6.38594453]),\n",
              " 'mean_score_time': array([0.11467536, 0.28432647, 0.57449389, 0.11923369, 0.28662499,\n",
              "        0.57540107, 0.11340785, 0.28124706, 0.55704014, 0.11573426,\n",
              "        0.28398379, 0.57202538]),\n",
              " 'mean_test_score': array([0.84696366, 0.84865662, 0.84865636, 0.84756857, 0.84974468,\n",
              "        0.84901929, 0.85010678, 0.84793102, 0.84986505, 0.8480518 ,\n",
              "        0.84986479, 0.84938148]),\n",
              " 'param_criterion': masked_array(data=['entropy', 'entropy', 'entropy', 'entropy', 'entropy',\n",
              "                    'entropy', 'gini', 'gini', 'gini', 'gini', 'gini',\n",
              "                    'gini'],\n",
              "              mask=[False, False, False, False, False, False, False, False,\n",
              "                    False, False, False, False],\n",
              "        fill_value='?',\n",
              "             dtype=object),\n",
              " 'param_max_features': masked_array(data=['auto', 'auto', 'auto', 'log2', 'log2', 'log2', 'auto',\n",
              "                    'auto', 'auto', 'log2', 'log2', 'log2'],\n",
              "              mask=[False, False, False, False, False, False, False, False,\n",
              "                    False, False, False, False],\n",
              "        fill_value='?',\n",
              "             dtype=object),\n",
              " 'param_n_estimators': masked_array(data=[200, 500, 1000, 200, 500, 1000, 200, 500, 1000, 200,\n",
              "                    500, 1000],\n",
              "              mask=[False, False, False, False, False, False, False, False,\n",
              "                    False, False, False, False],\n",
              "        fill_value='?',\n",
              "             dtype=object),\n",
              " 'params': [{'criterion': 'entropy',\n",
              "   'max_features': 'auto',\n",
              "   'n_estimators': 200},\n",
              "  {'criterion': 'entropy', 'max_features': 'auto', 'n_estimators': 500},\n",
              "  {'criterion': 'entropy', 'max_features': 'auto', 'n_estimators': 1000},\n",
              "  {'criterion': 'entropy', 'max_features': 'log2', 'n_estimators': 200},\n",
              "  {'criterion': 'entropy', 'max_features': 'log2', 'n_estimators': 500},\n",
              "  {'criterion': 'entropy', 'max_features': 'log2', 'n_estimators': 1000},\n",
              "  {'criterion': 'gini', 'max_features': 'auto', 'n_estimators': 200},\n",
              "  {'criterion': 'gini', 'max_features': 'auto', 'n_estimators': 500},\n",
              "  {'criterion': 'gini', 'max_features': 'auto', 'n_estimators': 1000},\n",
              "  {'criterion': 'gini', 'max_features': 'log2', 'n_estimators': 200},\n",
              "  {'criterion': 'gini', 'max_features': 'log2', 'n_estimators': 500},\n",
              "  {'criterion': 'gini', 'max_features': 'log2', 'n_estimators': 1000}],\n",
              " 'rank_test_score': array([12,  7,  8, 11,  4,  6,  1, 10,  2,  9,  3,  5], dtype=int32),\n",
              " 'split0_test_score': array([0.76359681, 0.76105874, 0.76323423, 0.76033358, 0.7617839 ,\n",
              "        0.76142132, 0.76686004, 0.76250906, 0.76613488, 0.76359681,\n",
              "        0.76831037, 0.7657723 ]),\n",
              " 'split1_test_score': array([0.88465724, 0.88792165, 0.8864708 , 0.88828437, 0.88937251,\n",
              "        0.88900979, 0.88792165, 0.88683351, 0.88792165, 0.88538266,\n",
              "        0.88683351, 0.88501995]),\n",
              " 'split2_test_score': array([0.89263692, 0.89698948, 0.89626406, 0.89408778, 0.89807762,\n",
              "        0.89662677, 0.89553863, 0.89445049, 0.89553863, 0.89517592,\n",
              "        0.89445049, 0.89735219]),\n",
              " 'std_fit_time': array([0.03001171, 0.0369736 , 0.06190067, 0.0238577 , 0.03093916,\n",
              "        0.04493191, 0.00403425, 0.03159675, 0.11169572, 0.02941325,\n",
              "        0.04854626, 0.10902661]),\n",
              " 'std_score_time': array([0.00059951, 0.00499038, 0.00884639, 0.00560105, 0.00752905,\n",
              "        0.01419679, 0.00146975, 0.00872468, 0.01510533, 0.0032471 ,\n",
              "        0.00567944, 0.01416721]),\n",
              " 'std_test_score': array([0.05903921, 0.06205158, 0.06053474, 0.06172994, 0.06229911,\n",
              "        0.06201913, 0.05894641, 0.06048244, 0.05928778, 0.05985238,\n",
              "        0.05775146, 0.0593346 ])}"
            ]
          },
          "metadata": {
            "tags": []
          },
          "execution_count": 55
        }
      ]
    },
    {
      "cell_type": "code",
      "metadata": {
        "id": "wpoYEvsSDa76",
        "outputId": "396a880d-869c-4625-cb64-8addf4121b93",
        "colab": {
          "base_uri": "https://localhost:8080/",
          "height": 34
        }
      },
      "source": [
        "CV_rfc.best_score_"
      ],
      "execution_count": 56,
      "outputs": [
        {
          "output_type": "execute_result",
          "data": {
            "text/plain": [
              "0.8501067754753343"
            ]
          },
          "metadata": {
            "tags": []
          },
          "execution_count": 56
        }
      ]
    },
    {
      "cell_type": "markdown",
      "metadata": {
        "id": "6IzNqHLSDa8A"
      },
      "source": [
        "#### Evaluation"
      ]
    },
    {
      "cell_type": "code",
      "metadata": {
        "id": "dxQHe_GkDa8B"
      },
      "source": [
        "pred=CV_rfc.predict(test2_X)"
      ],
      "execution_count": 57,
      "outputs": []
    },
    {
      "cell_type": "code",
      "metadata": {
        "id": "vX3L9fzgDa8S",
        "outputId": "7f65f1c2-4971-4e7b-a352-ecda8215a301",
        "colab": {
          "base_uri": "https://localhost:8080/",
          "height": 34
        }
      },
      "source": [
        "print(\"Accuracy for Random Forest on CV data: \",accuracy_score(test2_Y,pred))"
      ],
      "execution_count": 58,
      "outputs": [
        {
          "output_type": "stream",
          "text": [
            "Accuracy for Random Forest on CV data:  0.7764371894960965\n"
          ],
          "name": "stdout"
        }
      ]
    },
    {
      "cell_type": "code",
      "metadata": {
        "id": "Po14SCsWDa8a",
        "outputId": "0803cb27-be28-4a8e-9fcc-1d980b58008e",
        "colab": {
          "base_uri": "https://localhost:8080/",
          "height": 51
        }
      },
      "source": [
        "from sklearn.metrics import confusion_matrix\n",
        "CF=confusion_matrix(test2_Y, pred)\n",
        "CF"
      ],
      "execution_count": 59,
      "outputs": [
        {
          "output_type": "execute_result",
          "data": {
            "text/plain": [
              "array([[884, 154],\n",
              "       [161, 210]])"
            ]
          },
          "metadata": {
            "tags": []
          },
          "execution_count": 59
        }
      ]
    },
    {
      "cell_type": "code",
      "metadata": {
        "id": "E-BUeyCHDa8f",
        "outputId": "fc15f65d-07b6-4001-a413-93bb271c87b1",
        "colab": {
          "base_uri": "https://localhost:8080/",
          "height": 170
        }
      },
      "source": [
        "from sklearn.metrics import classification_report\n",
        "target_names = ['No','Yes']\n",
        "print(classification_report(test2_Y, pred, target_names=target_names))"
      ],
      "execution_count": 60,
      "outputs": [
        {
          "output_type": "stream",
          "text": [
            "              precision    recall  f1-score   support\n",
            "\n",
            "          No       0.85      0.85      0.85      1038\n",
            "         Yes       0.58      0.57      0.57       371\n",
            "\n",
            "    accuracy                           0.78      1409\n",
            "   macro avg       0.71      0.71      0.71      1409\n",
            "weighted avg       0.78      0.78      0.78      1409\n",
            "\n"
          ],
          "name": "stdout"
        }
      ]
    }
  ]
}